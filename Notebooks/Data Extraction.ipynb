{
 "cells": [
  {
   "cell_type": "markdown",
   "metadata": {},
   "source": [
    "# Data Extraction"
   ]
  },
  {
   "cell_type": "markdown",
   "metadata": {},
   "source": [
    "merge old-format data and new-format data\n",
    "\n",
    "in result:\n",
    "- set of csv files per year: sales\n",
    "- set of csv files per year: balance\n",
    "\n",
    "sales file:\n",
    "- date: \"YYYY-mm-DD\"\n",
    "- id\n",
    "- name\n",
    "- sales\n",
    "\n",
    "balance file:\n",
    "- date: \"YYYY-mm-DD\"\n",
    "- id\n",
    "- name\n",
    "- balance"
   ]
  },
  {
   "cell_type": "markdown",
   "metadata": {},
   "source": [
    "### importing"
   ]
  },
  {
   "cell_type": "code",
   "execution_count": 103,
   "metadata": {
    "collapsed": true
   },
   "outputs": [],
   "source": [
    "import sys\n",
    "import warnings\n",
    "warnings.filterwarnings('ignore')\n",
    "\n",
    "import pandas as pd\n",
    "import numpy as np\n",
    "\n",
    "from pandas import read_csv"
   ]
  },
  {
   "cell_type": "markdown",
   "metadata": {},
   "source": [
    "### read old data "
   ]
  },
  {
   "cell_type": "code",
   "execution_count": 301,
   "metadata": {},
   "outputs": [
    {
     "name": "stdout",
     "output_type": "stream",
     "text": [
      "~rows:  96579\n",
      "actual rows:  96559\n",
      "remove column:  col1\n",
      "remove column:  col2\n",
      "remove column:  col3\n",
      "remove column:  warehouse\n"
     ]
    }
   ],
   "source": [
    "def removeHeaderRows(data_raw):\n",
    "    data_raw.drop(data_raw.index[[0,1,2,3,4]], inplace=True)\n",
    "        \n",
    "def removeSingleValueColumn(col_name, data):\n",
    "    if (len(data[col_name].unique()) == 1):\n",
    "        print('remove column: ', col_name)\n",
    "        return data.drop(col_name, 1)\n",
    "    \n",
    "#read raw data\n",
    "from pandas import read_csv\n",
    "data_raw2014 = read_csv(\"~/Documents/imagineML/data/data2014.csv\") #щука\n",
    "data_raw2015 = read_csv(\"~/Documents/imagineML/data/data2015.csv\")\n",
    "data_raw2016 = read_csv(\"~/Documents/imagineML/data/data2016.csv\")\n",
    "data_raw2017 = read_csv(\"~/Documents/imagineML/data/data2017.csv\")\n",
    "totalrows = data_raw2014.shape[0] + data_raw2015.shape[0] + data_raw2016.shape[0] + data_raw2017.shape[0]\n",
    "print(\"~rows: \",totalrows)\n",
    "\n",
    "removeHeaderRows(data_raw2014)\n",
    "removeHeaderRows(data_raw2015)\n",
    "removeHeaderRows(data_raw2016)\n",
    "removeHeaderRows(data_raw2017)\n",
    "\n",
    "df = pd.concat([data_raw2014, data_raw2015, data_raw2016, data_raw2017], axis=0)\n",
    "df = df.reset_index(drop=True)\n",
    "print(\"actual rows: \", df.shape[0])\n",
    "\n",
    "df.columns = ['date', 'col1', 'warehouse', 'col2', 'name', 'col3', 'id', 'qtyBefore', 'qty']\n",
    "df = removeSingleValueColumn('col1', df)\n",
    "df = removeSingleValueColumn('col2', df)\n",
    "df = removeSingleValueColumn('col3', df)\n",
    "df = removeSingleValueColumn('warehouse', df)\n",
    "df['date'] = pd.to_datetime(df['date'], format='%d.%m.%Y')\n",
    "df['date'] = df['date'].dt.date\n",
    "df['year'] = df['date'].map(lambda x: x.year)\n",
    "df['qtyBefore'] = df['qtyBefore'].astype('float')\n",
    "df['qty'] = df['qty'].astype('float')\n",
    "df.head()\n",
    "data_old = df"
   ]
  },
  {
   "cell_type": "markdown",
   "metadata": {},
   "source": [
    "### read new data"
   ]
  },
  {
   "cell_type": "code",
   "execution_count": 303,
   "metadata": {},
   "outputs": [],
   "source": [
    "df = read_csv(\"~/Documents/imagineML/data/result.csv\",sep=';')"
   ]
  },
  {
   "cell_type": "code",
   "execution_count": 304,
   "metadata": {},
   "outputs": [],
   "source": [
    "df['date'] = pd.to_datetime(df['date'])\n",
    "df['date'] = df['date'].dt.date\n",
    "df['year'] = df['date'].map(lambda x: x.year)\n",
    "data_new = df"
   ]
  },
  {
   "cell_type": "markdown",
   "metadata": {},
   "source": [
    "### create map keys of items"
   ]
  },
  {
   "cell_type": "code",
   "execution_count": 275,
   "metadata": {},
   "outputs": [
    {
     "name": "stdout",
     "output_type": "stream",
     "text": [
      "check 925276 925276\n"
     ]
    }
   ],
   "source": [
    "all_names = data_old['name'].append(data_new['name'])\n",
    "print(\"check\", len(data_old) + len(data_new), len(all_names))\n",
    "all_names = all_names.sort_values().unique()"
   ]
  },
  {
   "cell_type": "code",
   "execution_count": 276,
   "metadata": {},
   "outputs": [
    {
     "data": {
      "text/html": [
       "<div>\n",
       "<style>\n",
       "    .dataframe thead tr:only-child th {\n",
       "        text-align: right;\n",
       "    }\n",
       "\n",
       "    .dataframe thead th {\n",
       "        text-align: left;\n",
       "    }\n",
       "\n",
       "    .dataframe tbody tr th {\n",
       "        vertical-align: top;\n",
       "    }\n",
       "</style>\n",
       "<table border=\"1\" class=\"dataframe\">\n",
       "  <thead>\n",
       "    <tr style=\"text-align: right;\">\n",
       "      <th></th>\n",
       "      <th>item_name</th>\n",
       "    </tr>\n",
       "  </thead>\n",
       "  <tbody>\n",
       "    <tr>\n",
       "      <th>1</th>\n",
       "      <td>100 причин моей любви</td>\n",
       "    </tr>\n",
       "    <tr>\n",
       "      <th>2</th>\n",
       "      <td>1940 DVD-открытка \"Ты родился\" 1940</td>\n",
       "    </tr>\n",
       "    <tr>\n",
       "      <th>3</th>\n",
       "      <td>1941 DVD-открытка \"Ты родился\" 1941</td>\n",
       "    </tr>\n",
       "    <tr>\n",
       "      <th>4</th>\n",
       "      <td>1942 DVD-открытка \"Ты родился\" 1942</td>\n",
       "    </tr>\n",
       "    <tr>\n",
       "      <th>5</th>\n",
       "      <td>1943 DVD-открытка \"Ты родился\" 1943</td>\n",
       "    </tr>\n",
       "  </tbody>\n",
       "</table>\n",
       "</div>"
      ],
      "text/plain": [
       "                             item_name\n",
       "1                100 причин моей любви\n",
       "2  1940 DVD-открытка \"Ты родился\" 1940\n",
       "3  1941 DVD-открытка \"Ты родился\" 1941\n",
       "4  1942 DVD-открытка \"Ты родился\" 1942\n",
       "5  1943 DVD-открытка \"Ты родился\" 1943"
      ]
     },
     "execution_count": 276,
     "metadata": {},
     "output_type": "execute_result"
    }
   ],
   "source": [
    "keys = pd.DataFrame({\"item_name\": all_names })\n",
    "keys.index += 1\n",
    "keys.head()"
   ]
  },
  {
   "cell_type": "code",
   "execution_count": 277,
   "metadata": {},
   "outputs": [
    {
     "data": {
      "text/html": [
       "<div>\n",
       "<style>\n",
       "    .dataframe thead tr:only-child th {\n",
       "        text-align: right;\n",
       "    }\n",
       "\n",
       "    .dataframe thead th {\n",
       "        text-align: left;\n",
       "    }\n",
       "\n",
       "    .dataframe tbody tr th {\n",
       "        vertical-align: top;\n",
       "    }\n",
       "</style>\n",
       "<table border=\"1\" class=\"dataframe\">\n",
       "  <thead>\n",
       "    <tr style=\"text-align: right;\">\n",
       "      <th></th>\n",
       "      <th>item_key</th>\n",
       "    </tr>\n",
       "    <tr>\n",
       "      <th>item_name</th>\n",
       "      <th></th>\n",
       "    </tr>\n",
       "  </thead>\n",
       "  <tbody>\n",
       "    <tr>\n",
       "      <th>100 причин моей любви</th>\n",
       "      <td>1</td>\n",
       "    </tr>\n",
       "    <tr>\n",
       "      <th>1940 DVD-открытка \"Ты родился\" 1940</th>\n",
       "      <td>2</td>\n",
       "    </tr>\n",
       "    <tr>\n",
       "      <th>1941 DVD-открытка \"Ты родился\" 1941</th>\n",
       "      <td>3</td>\n",
       "    </tr>\n",
       "    <tr>\n",
       "      <th>1942 DVD-открытка \"Ты родился\" 1942</th>\n",
       "      <td>4</td>\n",
       "    </tr>\n",
       "    <tr>\n",
       "      <th>1943 DVD-открытка \"Ты родился\" 1943</th>\n",
       "      <td>5</td>\n",
       "    </tr>\n",
       "  </tbody>\n",
       "</table>\n",
       "</div>"
      ],
      "text/plain": [
       "                                     item_key\n",
       "item_name                                    \n",
       "100 причин моей любви                       1\n",
       "1940 DVD-открытка \"Ты родился\" 1940         2\n",
       "1941 DVD-открытка \"Ты родился\" 1941         3\n",
       "1942 DVD-открытка \"Ты родился\" 1942         4\n",
       "1943 DVD-открытка \"Ты родился\" 1943         5"
      ]
     },
     "execution_count": 277,
     "metadata": {},
     "output_type": "execute_result"
    }
   ],
   "source": [
    "keys_dict = keys\n",
    "keys_dict['item_key'] = keys.index\n",
    "keys_dict.set_index('item_name', inplace=True)\n",
    "keys_dict.head()"
   ]
  },
  {
   "cell_type": "code",
   "execution_count": 278,
   "metadata": {
    "collapsed": true
   },
   "outputs": [],
   "source": [
    "def get_item_key(item_name):\n",
    "    return keys_dict.loc[item_name].item_key"
   ]
  },
  {
   "cell_type": "code",
   "execution_count": 306,
   "metadata": {
    "collapsed": true
   },
   "outputs": [],
   "source": [
    "data_old['key'] = data_old['name'].map(lambda x: get_item_key(x))\n",
    "data_new['key'] = data_new['name'].map(lambda x: get_item_key(x))"
   ]
  },
  {
   "cell_type": "markdown",
   "metadata": {},
   "source": [
    "### merge sales data "
   ]
  },
  {
   "cell_type": "code",
   "execution_count": 307,
   "metadata": {},
   "outputs": [
    {
     "data": {
      "text/html": [
       "<div>\n",
       "<style>\n",
       "    .dataframe thead tr:only-child th {\n",
       "        text-align: right;\n",
       "    }\n",
       "\n",
       "    .dataframe thead th {\n",
       "        text-align: left;\n",
       "    }\n",
       "\n",
       "    .dataframe tbody tr th {\n",
       "        vertical-align: top;\n",
       "    }\n",
       "</style>\n",
       "<table border=\"1\" class=\"dataframe\">\n",
       "  <thead>\n",
       "    <tr style=\"text-align: right;\">\n",
       "      <th></th>\n",
       "      <th>key</th>\n",
       "      <th>name</th>\n",
       "      <th>date</th>\n",
       "      <th>sales</th>\n",
       "      <th>year</th>\n",
       "    </tr>\n",
       "  </thead>\n",
       "  <tbody>\n",
       "    <tr>\n",
       "      <th>0</th>\n",
       "      <td>262</td>\n",
       "      <td>Батарейки мизинчиковые ААА  LR03 12 в уп. бата...</td>\n",
       "      <td>2014-07-11</td>\n",
       "      <td>3.0</td>\n",
       "      <td>2014</td>\n",
       "    </tr>\n",
       "    <tr>\n",
       "      <th>1</th>\n",
       "      <td>409</td>\n",
       "      <td>Блокнотик Светская львица</td>\n",
       "      <td>2014-07-11</td>\n",
       "      <td>1.0</td>\n",
       "      <td>2014</td>\n",
       "    </tr>\n",
       "    <tr>\n",
       "      <th>2</th>\n",
       "      <td>679</td>\n",
       "      <td>Визитница Для покупочек</td>\n",
       "      <td>2014-07-11</td>\n",
       "      <td>1.0</td>\n",
       "      <td>2014</td>\n",
       "    </tr>\n",
       "    <tr>\n",
       "      <th>3</th>\n",
       "      <td>685</td>\n",
       "      <td>Визитница Мои скидочки</td>\n",
       "      <td>2014-07-11</td>\n",
       "      <td>1.0</td>\n",
       "      <td>2014</td>\n",
       "    </tr>\n",
       "    <tr>\n",
       "      <th>4</th>\n",
       "      <td>688</td>\n",
       "      <td>Визитница Особы приближенные к императору</td>\n",
       "      <td>2014-07-11</td>\n",
       "      <td>1.0</td>\n",
       "      <td>2014</td>\n",
       "    </tr>\n",
       "  </tbody>\n",
       "</table>\n",
       "</div>"
      ],
      "text/plain": [
       "   key                                               name        date  sales  \\\n",
       "0  262  Батарейки мизинчиковые ААА  LR03 12 в уп. бата...  2014-07-11    3.0   \n",
       "1  409                          Блокнотик Светская львица  2014-07-11    1.0   \n",
       "2  679                            Визитница Для покупочек  2014-07-11    1.0   \n",
       "3  685                             Визитница Мои скидочки  2014-07-11    1.0   \n",
       "4  688          Визитница Особы приближенные к императору  2014-07-11    1.0   \n",
       "\n",
       "   year  \n",
       "0  2014  \n",
       "1  2014  \n",
       "2  2014  \n",
       "3  2014  \n",
       "4  2014  "
      ]
     },
     "execution_count": 307,
     "metadata": {},
     "output_type": "execute_result"
    }
   ],
   "source": [
    "sales_old = data_old[['key', 'name', 'date', 'qty', 'year']]\n",
    "sales_old.rename(columns={'qty': 'sales'}, inplace=True)\n",
    "sales_old.head()"
   ]
  },
  {
   "cell_type": "code",
   "execution_count": 316,
   "metadata": {},
   "outputs": [
    {
     "data": {
      "text/html": [
       "<div>\n",
       "<style>\n",
       "    .dataframe thead tr:only-child th {\n",
       "        text-align: right;\n",
       "    }\n",
       "\n",
       "    .dataframe thead th {\n",
       "        text-align: left;\n",
       "    }\n",
       "\n",
       "    .dataframe tbody tr th {\n",
       "        vertical-align: top;\n",
       "    }\n",
       "</style>\n",
       "<table border=\"1\" class=\"dataframe\">\n",
       "  <thead>\n",
       "    <tr style=\"text-align: right;\">\n",
       "      <th></th>\n",
       "      <th>key</th>\n",
       "      <th>name</th>\n",
       "      <th>date</th>\n",
       "      <th>sales</th>\n",
       "      <th>year</th>\n",
       "    </tr>\n",
       "  </thead>\n",
       "  <tbody>\n",
       "    <tr>\n",
       "      <th>178</th>\n",
       "      <td>7</td>\n",
       "      <td>1945 DVD-открытка \"Ты родился\" 1945</td>\n",
       "      <td>2017-08-01</td>\n",
       "      <td>0.0</td>\n",
       "      <td>2017</td>\n",
       "    </tr>\n",
       "    <tr>\n",
       "      <th>825287</th>\n",
       "      <td>7</td>\n",
       "      <td>1945 DVD-открытка \"Ты родился\" 1945</td>\n",
       "      <td>2017-08-01</td>\n",
       "      <td>0.0</td>\n",
       "      <td>2017</td>\n",
       "    </tr>\n",
       "    <tr>\n",
       "      <th>3084</th>\n",
       "      <td>12</td>\n",
       "      <td>1950 DVD-открытка \"Ты родился\" 1950</td>\n",
       "      <td>2017-08-01</td>\n",
       "      <td>0.0</td>\n",
       "      <td>2017</td>\n",
       "    </tr>\n",
       "    <tr>\n",
       "      <th>828193</th>\n",
       "      <td>12</td>\n",
       "      <td>1950 DVD-открытка \"Ты родился\" 1950</td>\n",
       "      <td>2017-08-01</td>\n",
       "      <td>0.0</td>\n",
       "      <td>2017</td>\n",
       "    </tr>\n",
       "    <tr>\n",
       "      <th>3083</th>\n",
       "      <td>13</td>\n",
       "      <td>1951 DVD-открытка \"Ты родился\" 1951</td>\n",
       "      <td>2017-08-01</td>\n",
       "      <td>0.0</td>\n",
       "      <td>2017</td>\n",
       "    </tr>\n",
       "  </tbody>\n",
       "</table>\n",
       "</div>"
      ],
      "text/plain": [
       "        key                                 name        date  sales  year\n",
       "178       7  1945 DVD-открытка \"Ты родился\" 1945  2017-08-01    0.0  2017\n",
       "825287    7  1945 DVD-открытка \"Ты родился\" 1945  2017-08-01    0.0  2017\n",
       "3084     12  1950 DVD-открытка \"Ты родился\" 1950  2017-08-01    0.0  2017\n",
       "828193   12  1950 DVD-открытка \"Ты родился\" 1950  2017-08-01    0.0  2017\n",
       "3083     13  1951 DVD-открытка \"Ты родился\" 1951  2017-08-01    0.0  2017"
      ]
     },
     "execution_count": 316,
     "metadata": {},
     "output_type": "execute_result"
    }
   ],
   "source": [
    "sales_new = data_new[['key', 'name', 'date', 'sales', 'year']]\n",
    "sales_new = sales_new.sort_values(['date','name'],ascending=[True,True])\n",
    "sales_new.head()"
   ]
  },
  {
   "cell_type": "code",
   "execution_count": 317,
   "metadata": {},
   "outputs": [
    {
     "name": "stdout",
     "output_type": "stream",
     "text": [
      "check 925276 925276\n"
     ]
    }
   ],
   "source": [
    "sales = pd.concat([sales_old, sales_new],axis=0)\n",
    "print('check', len(sales), len(sales_old)+len(sales_new))\n",
    "sales = sales.sort_values(['date', 'key'])"
   ]
  },
  {
   "cell_type": "code",
   "execution_count": 313,
   "metadata": {},
   "outputs": [],
   "source": [
    "years = sales['year'].unique()\n",
    "for year in years:\n",
    "    sales_file = '~/Documents/imagineML/data/sales%s.csv'%year\n",
    "    sales[sales['year'] == year][['key','name','date','sales']].to_csv(sales_file, sep='\\t', encoding='utf-8')"
   ]
  },
  {
   "cell_type": "markdown",
   "metadata": {},
   "source": [
    "### merge balance data"
   ]
  },
  {
   "cell_type": "markdown",
   "metadata": {},
   "source": [
    "the same as sales data"
   ]
  },
  {
   "cell_type": "code",
   "execution_count": 321,
   "metadata": {},
   "outputs": [
    {
     "name": "stdout",
     "output_type": "stream",
     "text": [
      "check 925276 925276\n"
     ]
    }
   ],
   "source": [
    "balance_old = data_old[['key', 'name', 'date', 'qtyBefore', 'year']]\n",
    "balance_old.rename(columns={'qtyBefore': 'balance'}, inplace=True)\n",
    "balance_new = data_new[['key','name','date','balance', 'year']]\n",
    "balance = pd.concat([balance_old, balance_new],axis=0)\n",
    "balance = balance.sort_values(['date','name'],ascending=[True,True])\n",
    "print('check', len(balance), len(balance_old)+len(balance_new))"
   ]
  },
  {
   "cell_type": "code",
   "execution_count": 322,
   "metadata": {
    "collapsed": true
   },
   "outputs": [],
   "source": [
    "for year in years:\n",
    "    balance_file = '~/Documents/imagineML/data/balance%s.csv'%year\n",
    "    balance[balance['year'] == year][['key','name','date','balance']].to_csv(balance_file, sep='\\t', encoding='utf-8')"
   ]
  },
  {
   "cell_type": "code",
   "execution_count": 324,
   "metadata": {},
   "outputs": [],
   "source": [
    "keys.to_csv('~/Documents/imagineML/data/itemkeys.csv', sep='\\t', encoding='utf-8')"
   ]
  }
 ],
 "metadata": {
  "kernelspec": {
   "display_name": "Python 3",
   "language": "python",
   "name": "python3"
  },
  "language_info": {
   "codemirror_mode": {
    "name": "ipython",
    "version": 3
   },
   "file_extension": ".py",
   "mimetype": "text/x-python",
   "name": "python",
   "nbconvert_exporter": "python",
   "pygments_lexer": "ipython3",
   "version": "3.6.2"
  }
 },
 "nbformat": 4,
 "nbformat_minor": 2
}
