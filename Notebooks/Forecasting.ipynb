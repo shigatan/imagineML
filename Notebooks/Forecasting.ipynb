{
 "cells": [
  {
   "cell_type": "markdown",
   "metadata": {},
   "source": [
    "# [FORECASTING](http://telegra.ph/forecasting-10-24)\n",
    "\n",
    "\n",
    "demand forecasting is based on SHCHUKA 2014-2017"
   ]
  },
  {
   "cell_type": "markdown",
   "metadata": {},
   "source": [
    "### importing"
   ]
  },
  {
   "cell_type": "code",
   "execution_count": 1,
   "metadata": {},
   "outputs": [
    {
     "name": "stdout",
     "output_type": "stream",
     "text": [
      "Populating the interactive namespace from numpy and matplotlib\n"
     ]
    }
   ],
   "source": [
    "import sys\n",
    "import warnings\n",
    "warnings.filterwarnings('ignore')\n",
    "\n",
    "import pandas as pd\n",
    "import numpy as np\n",
    "import matplotlib.pyplot as plt\n",
    "\n",
    " # будем отображать графики прямо в jupyter'e\n",
    "%pylab inline\n",
    "\n",
    "from pylab import rcParams\n",
    "rcParams['figure.figsize'] = 8, 5\n",
    "\n",
    "import matplotlib.pyplot as plt\n",
    "%matplotlib inline\n",
    "\n",
    "import seaborn as sns\n"
   ]
  },
  {
   "cell_type": "markdown",
   "metadata": {},
   "source": [
    "### common\n"
   ]
  },
  {
   "cell_type": "code",
   "execution_count": 2,
   "metadata": {
    "collapsed": true
   },
   "outputs": [],
   "source": [
    "def printError(str):\n",
    "    print(\"\\x1b[31m\", str, \"\\x1b[0m\")    \n",
    "def printSuccess(str):\n",
    "    print('\\033[92m' + str +\"\\x1b[0m\")\n",
    "def printInfo(str):\n",
    "    print('\\033[94m' + str +\"\\x1b[0m\")"
   ]
  },
  {
   "cell_type": "markdown",
   "metadata": {},
   "source": [
    "### prepare source data"
   ]
  },
  {
   "cell_type": "code",
   "execution_count": 3,
   "metadata": {},
   "outputs": [
    {
     "name": "stdout",
     "output_type": "stream",
     "text": [
      "~rows:  96579\n",
      "actual rows:  96559\n",
      "remove column:  col1\n",
      "remove column:  col2\n",
      "remove column:  col3\n",
      "remove column:  warehouse\n"
     ]
    },
    {
     "data": {
      "text/html": [
       "<div>\n",
       "<style>\n",
       "    .dataframe thead tr:only-child th {\n",
       "        text-align: right;\n",
       "    }\n",
       "\n",
       "    .dataframe thead th {\n",
       "        text-align: left;\n",
       "    }\n",
       "\n",
       "    .dataframe tbody tr th {\n",
       "        vertical-align: top;\n",
       "    }\n",
       "</style>\n",
       "<table border=\"1\" class=\"dataframe\">\n",
       "  <thead>\n",
       "    <tr style=\"text-align: right;\">\n",
       "      <th></th>\n",
       "      <th>date</th>\n",
       "      <th>name</th>\n",
       "      <th>id</th>\n",
       "      <th>qtyBefore</th>\n",
       "      <th>qty</th>\n",
       "    </tr>\n",
       "  </thead>\n",
       "  <tbody>\n",
       "    <tr>\n",
       "      <th>0</th>\n",
       "      <td>2014-07-11</td>\n",
       "      <td>Батарейки мизинчиковые ААА  LR03 12 в уп. бата...</td>\n",
       "      <td>УТ000001012</td>\n",
       "      <td>144.0</td>\n",
       "      <td>3.0</td>\n",
       "    </tr>\n",
       "    <tr>\n",
       "      <th>1</th>\n",
       "      <td>2014-07-11</td>\n",
       "      <td>Блокнотик Светская львица</td>\n",
       "      <td>СК-00001146</td>\n",
       "      <td>1.0</td>\n",
       "      <td>1.0</td>\n",
       "    </tr>\n",
       "    <tr>\n",
       "      <th>2</th>\n",
       "      <td>2014-07-11</td>\n",
       "      <td>Визитница Для покупочек</td>\n",
       "      <td>01-00002742</td>\n",
       "      <td>2.0</td>\n",
       "      <td>1.0</td>\n",
       "    </tr>\n",
       "    <tr>\n",
       "      <th>3</th>\n",
       "      <td>2014-07-11</td>\n",
       "      <td>Визитница Мои скидочки</td>\n",
       "      <td>01-00000889</td>\n",
       "      <td>2.0</td>\n",
       "      <td>1.0</td>\n",
       "    </tr>\n",
       "    <tr>\n",
       "      <th>4</th>\n",
       "      <td>2014-07-11</td>\n",
       "      <td>Визитница Особы приближенные к императору</td>\n",
       "      <td>УТ000000026</td>\n",
       "      <td>2.0</td>\n",
       "      <td>1.0</td>\n",
       "    </tr>\n",
       "  </tbody>\n",
       "</table>\n",
       "</div>"
      ],
      "text/plain": [
       "         date                                               name           id  \\\n",
       "0  2014-07-11  Батарейки мизинчиковые ААА  LR03 12 в уп. бата...  УТ000001012   \n",
       "1  2014-07-11                          Блокнотик Светская львица  СК-00001146   \n",
       "2  2014-07-11                            Визитница Для покупочек  01-00002742   \n",
       "3  2014-07-11                             Визитница Мои скидочки  01-00000889   \n",
       "4  2014-07-11          Визитница Особы приближенные к императору  УТ000000026   \n",
       "\n",
       "   qtyBefore  qty  \n",
       "0      144.0  3.0  \n",
       "1        1.0  1.0  \n",
       "2        2.0  1.0  \n",
       "3        2.0  1.0  \n",
       "4        2.0  1.0  "
      ]
     },
     "execution_count": 3,
     "metadata": {},
     "output_type": "execute_result"
    }
   ],
   "source": [
    "def removeHeaderRows(data_raw):\n",
    "    data_raw.drop(data_raw.index[[0,1,2,3,4]], inplace=True)\n",
    "        \n",
    "def removeSingleValueColumn(col_name, data):\n",
    "    if (len(data[col_name].unique()) == 1):\n",
    "        print('remove column: ', col_name)\n",
    "        return data.drop(col_name, 1)\n",
    "    \n",
    "#read raw data\n",
    "from pandas import read_csv\n",
    "data_raw2014 = read_csv(\"~/Documents/imagineML/data/current/data2014.csv\") #щука\n",
    "data_raw2015 = read_csv(\"~/Documents/imagineML/data/current/data2015.csv\")\n",
    "data_raw2016 = read_csv(\"~/Documents/imagineML/data/current/data2016.csv\")\n",
    "data_raw2017 = read_csv(\"~/Documents/imagineML/data/current/data2017.csv\")\n",
    "totalrows = data_raw2014.shape[0] + data_raw2015.shape[0] + data_raw2016.shape[0] + data_raw2017.shape[0]\n",
    "print(\"~rows: \",totalrows)\n",
    "\n",
    "removeHeaderRows(data_raw2014)\n",
    "removeHeaderRows(data_raw2015)\n",
    "removeHeaderRows(data_raw2016)\n",
    "removeHeaderRows(data_raw2017)\n",
    "\n",
    "df = pd.concat([data_raw2014, data_raw2015, data_raw2016, data_raw2017], axis=0)\n",
    "df = df.reset_index(drop=True)\n",
    "print(\"actual rows: \", df.shape[0])\n",
    "\n",
    "df.columns = ['date', 'col1', 'warehouse', 'col2', 'name', 'col3', 'id', 'qtyBefore', 'qty']\n",
    "df = removeSingleValueColumn('col1', df)\n",
    "df = removeSingleValueColumn('col2', df)\n",
    "df = removeSingleValueColumn('col3', df)\n",
    "df = removeSingleValueColumn('warehouse', df)\n",
    "df['date'] = pd.to_datetime(df['date'], format='%d.%m.%Y')\n",
    "df['date'] = df['date'].dt.date\n",
    "df['qtyBefore'] = df['qtyBefore'].astype('float')\n",
    "df['qty'] = df['qty'].astype('float')\n",
    "df.head()"
   ]
  },
  {
   "cell_type": "code",
   "execution_count": 4,
   "metadata": {
    "collapsed": true
   },
   "outputs": [],
   "source": [
    "#release memory\n",
    "del [data_raw2014,data_raw2015, data_raw2016, data_raw2017]"
   ]
  },
  {
   "cell_type": "markdown",
   "metadata": {},
   "source": [
    "### select sales data"
   ]
  },
  {
   "cell_type": "code",
   "execution_count": 5,
   "metadata": {},
   "outputs": [
    {
     "data": {
      "text/html": [
       "<div>\n",
       "<style>\n",
       "    .dataframe thead tr:only-child th {\n",
       "        text-align: right;\n",
       "    }\n",
       "\n",
       "    .dataframe thead th {\n",
       "        text-align: left;\n",
       "    }\n",
       "\n",
       "    .dataframe tbody tr th {\n",
       "        vertical-align: top;\n",
       "    }\n",
       "</style>\n",
       "<table border=\"1\" class=\"dataframe\">\n",
       "  <thead>\n",
       "    <tr style=\"text-align: right;\">\n",
       "      <th></th>\n",
       "      <th>id</th>\n",
       "      <th>name</th>\n",
       "      <th>date</th>\n",
       "      <th>sales</th>\n",
       "    </tr>\n",
       "  </thead>\n",
       "  <tbody>\n",
       "    <tr>\n",
       "      <th>0</th>\n",
       "      <td>УТ000001012</td>\n",
       "      <td>Батарейки мизинчиковые ААА  LR03 12 в уп. бата...</td>\n",
       "      <td>2014-07-11</td>\n",
       "      <td>3.0</td>\n",
       "    </tr>\n",
       "    <tr>\n",
       "      <th>1</th>\n",
       "      <td>СК-00001146</td>\n",
       "      <td>Блокнотик Светская львица</td>\n",
       "      <td>2014-07-11</td>\n",
       "      <td>1.0</td>\n",
       "    </tr>\n",
       "    <tr>\n",
       "      <th>2</th>\n",
       "      <td>01-00002742</td>\n",
       "      <td>Визитница Для покупочек</td>\n",
       "      <td>2014-07-11</td>\n",
       "      <td>1.0</td>\n",
       "    </tr>\n",
       "    <tr>\n",
       "      <th>3</th>\n",
       "      <td>01-00000889</td>\n",
       "      <td>Визитница Мои скидочки</td>\n",
       "      <td>2014-07-11</td>\n",
       "      <td>1.0</td>\n",
       "    </tr>\n",
       "    <tr>\n",
       "      <th>4</th>\n",
       "      <td>УТ000000026</td>\n",
       "      <td>Визитница Особы приближенные к императору</td>\n",
       "      <td>2014-07-11</td>\n",
       "      <td>1.0</td>\n",
       "    </tr>\n",
       "  </tbody>\n",
       "</table>\n",
       "</div>"
      ],
      "text/plain": [
       "            id                                               name        date  \\\n",
       "0  УТ000001012  Батарейки мизинчиковые ААА  LR03 12 в уп. бата...  2014-07-11   \n",
       "1  СК-00001146                          Блокнотик Светская львица  2014-07-11   \n",
       "2  01-00002742                            Визитница Для покупочек  2014-07-11   \n",
       "3  01-00000889                             Визитница Мои скидочки  2014-07-11   \n",
       "4  УТ000000026          Визитница Особы приближенные к императору  2014-07-11   \n",
       "\n",
       "   sales  \n",
       "0    3.0  \n",
       "1    1.0  \n",
       "2    1.0  \n",
       "3    1.0  \n",
       "4    1.0  "
      ]
     },
     "execution_count": 5,
     "metadata": {},
     "output_type": "execute_result"
    }
   ],
   "source": [
    "# id, name, date, sale\n",
    "sales = df[['id', 'name', 'date', 'qty']]\n",
    "sales.rename(columns={'qty': 'sales'}, inplace=True)\n",
    "sales.head()"
   ]
  },
  {
   "cell_type": "markdown",
   "metadata": {},
   "source": [
    "### select balance data"
   ]
  },
  {
   "cell_type": "code",
   "execution_count": 6,
   "metadata": {},
   "outputs": [
    {
     "data": {
      "text/html": [
       "<div>\n",
       "<style>\n",
       "    .dataframe thead tr:only-child th {\n",
       "        text-align: right;\n",
       "    }\n",
       "\n",
       "    .dataframe thead th {\n",
       "        text-align: left;\n",
       "    }\n",
       "\n",
       "    .dataframe tbody tr th {\n",
       "        vertical-align: top;\n",
       "    }\n",
       "</style>\n",
       "<table border=\"1\" class=\"dataframe\">\n",
       "  <thead>\n",
       "    <tr style=\"text-align: right;\">\n",
       "      <th></th>\n",
       "      <th>id</th>\n",
       "      <th>name</th>\n",
       "      <th>date</th>\n",
       "      <th>balance</th>\n",
       "    </tr>\n",
       "  </thead>\n",
       "  <tbody>\n",
       "    <tr>\n",
       "      <th>0</th>\n",
       "      <td>УТ000001012</td>\n",
       "      <td>Батарейки мизинчиковые ААА  LR03 12 в уп. бата...</td>\n",
       "      <td>2014-07-11</td>\n",
       "      <td>144.0</td>\n",
       "    </tr>\n",
       "    <tr>\n",
       "      <th>1</th>\n",
       "      <td>СК-00001146</td>\n",
       "      <td>Блокнотик Светская львица</td>\n",
       "      <td>2014-07-11</td>\n",
       "      <td>1.0</td>\n",
       "    </tr>\n",
       "    <tr>\n",
       "      <th>2</th>\n",
       "      <td>01-00002742</td>\n",
       "      <td>Визитница Для покупочек</td>\n",
       "      <td>2014-07-11</td>\n",
       "      <td>2.0</td>\n",
       "    </tr>\n",
       "    <tr>\n",
       "      <th>3</th>\n",
       "      <td>01-00000889</td>\n",
       "      <td>Визитница Мои скидочки</td>\n",
       "      <td>2014-07-11</td>\n",
       "      <td>2.0</td>\n",
       "    </tr>\n",
       "    <tr>\n",
       "      <th>4</th>\n",
       "      <td>УТ000000026</td>\n",
       "      <td>Визитница Особы приближенные к императору</td>\n",
       "      <td>2014-07-11</td>\n",
       "      <td>2.0</td>\n",
       "    </tr>\n",
       "  </tbody>\n",
       "</table>\n",
       "</div>"
      ],
      "text/plain": [
       "            id                                               name        date  \\\n",
       "0  УТ000001012  Батарейки мизинчиковые ААА  LR03 12 в уп. бата...  2014-07-11   \n",
       "1  СК-00001146                          Блокнотик Светская львица  2014-07-11   \n",
       "2  01-00002742                            Визитница Для покупочек  2014-07-11   \n",
       "3  01-00000889                             Визитница Мои скидочки  2014-07-11   \n",
       "4  УТ000000026          Визитница Особы приближенные к императору  2014-07-11   \n",
       "\n",
       "   balance  \n",
       "0    144.0  \n",
       "1      1.0  \n",
       "2      2.0  \n",
       "3      2.0  \n",
       "4      2.0  "
      ]
     },
     "execution_count": 6,
     "metadata": {},
     "output_type": "execute_result"
    }
   ],
   "source": [
    "# id, name, date, balance\n",
    "balance = df[['id', 'name', 'date', 'qtyBefore']]\n",
    "balance.rename(columns={'qtyBefore': 'balance'}, inplace=True)\n",
    "balance.head()"
   ]
  },
  {
   "cell_type": "markdown",
   "metadata": {},
   "source": [
    "### filter data"
   ]
  },
  {
   "cell_type": "code",
   "execution_count": 7,
   "metadata": {},
   "outputs": [
    {
     "name": "stdout",
     "output_type": "stream",
     "text": [
      "\u001b[31m found 7 items with sales < 1 \u001b[0m\n"
     ]
    }
   ],
   "source": [
    "# filter based on validation: remove items where sales < 0\n",
    "items_sales_min = sales.groupby(['id'])['sales'].min()\n",
    "items_sales_min = items_sales_min.to_frame().reset_index()\n",
    "items_sales_min = items_sales_min.sort_values(by=['sales'])\n",
    "items_sales_min.head(10) #7 items\n",
    "\n",
    "incorrect = len(items_sales_min[items_sales_min['sales'] < 1])\n",
    "if (incorrect > 0):\n",
    "    printError(\"found \" + str(incorrect) + \" items with sales < 1\")"
   ]
  },
  {
   "cell_type": "code",
   "execution_count": 8,
   "metadata": {},
   "outputs": [
    {
     "data": {
      "text/html": [
       "<div>\n",
       "<style>\n",
       "    .dataframe thead tr:only-child th {\n",
       "        text-align: right;\n",
       "    }\n",
       "\n",
       "    .dataframe thead th {\n",
       "        text-align: left;\n",
       "    }\n",
       "\n",
       "    .dataframe tbody tr th {\n",
       "        vertical-align: top;\n",
       "    }\n",
       "</style>\n",
       "<table border=\"1\" class=\"dataframe\">\n",
       "  <thead>\n",
       "    <tr style=\"text-align: right;\">\n",
       "      <th></th>\n",
       "      <th>id</th>\n",
       "      <th>sales</th>\n",
       "    </tr>\n",
       "  </thead>\n",
       "  <tbody>\n",
       "    <tr>\n",
       "      <th>4303</th>\n",
       "      <td>99-00004449</td>\n",
       "      <td>0.5</td>\n",
       "    </tr>\n",
       "    <tr>\n",
       "      <th>1745</th>\n",
       "      <td>06-00000047</td>\n",
       "      <td>1.0</td>\n",
       "    </tr>\n",
       "    <tr>\n",
       "      <th>607</th>\n",
       "      <td>01-00001046</td>\n",
       "      <td>1.0</td>\n",
       "    </tr>\n",
       "    <tr>\n",
       "      <th>3889</th>\n",
       "      <td>99-00003473</td>\n",
       "      <td>1.0</td>\n",
       "    </tr>\n",
       "    <tr>\n",
       "      <th>1699</th>\n",
       "      <td>01-00003462</td>\n",
       "      <td>1.0</td>\n",
       "    </tr>\n",
       "  </tbody>\n",
       "</table>\n",
       "</div>"
      ],
      "text/plain": [
       "               id  sales\n",
       "4303  99-00004449    0.5\n",
       "1745  06-00000047    1.0\n",
       "607   01-00001046    1.0\n",
       "3889  99-00003473    1.0\n",
       "1699  01-00003462    1.0"
      ]
     },
     "execution_count": 8,
     "metadata": {},
     "output_type": "execute_result"
    }
   ],
   "source": [
    "# filter unsold items: remove items where qty == 0 during all period (2014-2017)\n",
    "items_sales_total = sales.groupby(['id'])['sales'].sum()\n",
    "items_sales_total = items_sales_total.to_frame().reset_index()\n",
    "items_sales_total = items_sales_total.sort_values(by=['sales'])\n",
    "items_sales_total.head() # 1 item"
   ]
  },
  {
   "cell_type": "code",
   "execution_count": 9,
   "metadata": {
    "collapsed": true
   },
   "outputs": [],
   "source": [
    "#release memory\n",
    "#del [items_sales_min, items_sales_total]\n",
    "del items_sales_min"
   ]
  },
  {
   "cell_type": "markdown",
   "metadata": {},
   "source": [
    "### unique items ids"
   ]
  },
  {
   "cell_type": "code",
   "execution_count": 10,
   "metadata": {
    "collapsed": true
   },
   "outputs": [],
   "source": [
    "item_unique_ids = sales['id'].unique()"
   ]
  },
  {
   "cell_type": "markdown",
   "metadata": {},
   "source": [
    "### group by  month, 2 weeks,  week"
   ]
  },
  {
   "cell_type": "code",
   "execution_count": 11,
   "metadata": {
    "collapsed": true
   },
   "outputs": [],
   "source": [
    "temp = sales[['date', 'id', 'name', 'sales']]\n",
    "temp['month_str'] = temp['date'].map(lambda x: x.month).astype(str)\n",
    "temp['year_str'] = temp['date'].map(lambda x: x.year).astype(str)\n",
    "temp['day'] = temp['date'].map(lambda x: x.day)\n",
    "\n",
    "def getGrouppedSales(temp_df):\n",
    "    temp_df = temp_df.groupby(['id', 'key_date'])['sales'].sum()\n",
    "    temp_df = temp_df.to_frame().reset_index()\n",
    "    groupped_sales = temp_df.pivot(index='key_date', columns='id', values='sales')   \n",
    "    groupped_sales.reset_index(level=0, inplace=True)\n",
    "    del temp_df\n",
    "    return groupped_sales\n"
   ]
  },
  {
   "cell_type": "code",
   "execution_count": 12,
   "metadata": {},
   "outputs": [
    {
     "data": {
      "text/html": [
       "<div>\n",
       "<style>\n",
       "    .dataframe thead tr:only-child th {\n",
       "        text-align: right;\n",
       "    }\n",
       "\n",
       "    .dataframe thead th {\n",
       "        text-align: left;\n",
       "    }\n",
       "\n",
       "    .dataframe tbody tr th {\n",
       "        vertical-align: top;\n",
       "    }\n",
       "</style>\n",
       "<table border=\"1\" class=\"dataframe\">\n",
       "  <thead>\n",
       "    <tr style=\"text-align: right;\">\n",
       "      <th>id</th>\n",
       "      <th>key_date</th>\n",
       "      <th>00-00000003</th>\n",
       "      <th>00-00000004</th>\n",
       "      <th>00-00000005</th>\n",
       "      <th>00-00000009</th>\n",
       "      <th>00-00000010</th>\n",
       "      <th>00-00000011</th>\n",
       "      <th>00-00000012</th>\n",
       "      <th>00-00000018</th>\n",
       "      <th>00-00000021</th>\n",
       "      <th>...</th>\n",
       "      <th>УТ000000984</th>\n",
       "      <th>УТ000000998</th>\n",
       "      <th>УТ000001012</th>\n",
       "      <th>УТ000001013</th>\n",
       "      <th>УТ000001139</th>\n",
       "      <th>УТ000001140</th>\n",
       "      <th>УТ000001251</th>\n",
       "      <th>УТ000001301</th>\n",
       "      <th>УТ000001302</th>\n",
       "      <th>ЯЧ-00000001</th>\n",
       "    </tr>\n",
       "  </thead>\n",
       "  <tbody>\n",
       "    <tr>\n",
       "      <th>0</th>\n",
       "      <td>2014-07-01</td>\n",
       "      <td>4.0</td>\n",
       "      <td>4.0</td>\n",
       "      <td>6.0</td>\n",
       "      <td>NaN</td>\n",
       "      <td>NaN</td>\n",
       "      <td>NaN</td>\n",
       "      <td>NaN</td>\n",
       "      <td>NaN</td>\n",
       "      <td>NaN</td>\n",
       "      <td>...</td>\n",
       "      <td>1.0</td>\n",
       "      <td>NaN</td>\n",
       "      <td>19.0</td>\n",
       "      <td>53.0</td>\n",
       "      <td>NaN</td>\n",
       "      <td>NaN</td>\n",
       "      <td>NaN</td>\n",
       "      <td>NaN</td>\n",
       "      <td>NaN</td>\n",
       "      <td>NaN</td>\n",
       "    </tr>\n",
       "    <tr>\n",
       "      <th>1</th>\n",
       "      <td>2014-08-01</td>\n",
       "      <td>1.0</td>\n",
       "      <td>3.0</td>\n",
       "      <td>8.0</td>\n",
       "      <td>1.0</td>\n",
       "      <td>2.0</td>\n",
       "      <td>NaN</td>\n",
       "      <td>NaN</td>\n",
       "      <td>NaN</td>\n",
       "      <td>NaN</td>\n",
       "      <td>...</td>\n",
       "      <td>6.0</td>\n",
       "      <td>NaN</td>\n",
       "      <td>107.0</td>\n",
       "      <td>104.0</td>\n",
       "      <td>NaN</td>\n",
       "      <td>3.0</td>\n",
       "      <td>2.0</td>\n",
       "      <td>3.0</td>\n",
       "      <td>NaN</td>\n",
       "      <td>NaN</td>\n",
       "    </tr>\n",
       "    <tr>\n",
       "      <th>2</th>\n",
       "      <td>2014-09-01</td>\n",
       "      <td>7.0</td>\n",
       "      <td>10.0</td>\n",
       "      <td>9.0</td>\n",
       "      <td>NaN</td>\n",
       "      <td>NaN</td>\n",
       "      <td>1.0</td>\n",
       "      <td>NaN</td>\n",
       "      <td>1.0</td>\n",
       "      <td>NaN</td>\n",
       "      <td>...</td>\n",
       "      <td>5.0</td>\n",
       "      <td>NaN</td>\n",
       "      <td>129.0</td>\n",
       "      <td>80.0</td>\n",
       "      <td>NaN</td>\n",
       "      <td>6.0</td>\n",
       "      <td>NaN</td>\n",
       "      <td>3.0</td>\n",
       "      <td>NaN</td>\n",
       "      <td>NaN</td>\n",
       "    </tr>\n",
       "    <tr>\n",
       "      <th>3</th>\n",
       "      <td>2014-10-01</td>\n",
       "      <td>2.0</td>\n",
       "      <td>5.0</td>\n",
       "      <td>9.0</td>\n",
       "      <td>NaN</td>\n",
       "      <td>NaN</td>\n",
       "      <td>1.0</td>\n",
       "      <td>NaN</td>\n",
       "      <td>1.0</td>\n",
       "      <td>NaN</td>\n",
       "      <td>...</td>\n",
       "      <td>6.0</td>\n",
       "      <td>NaN</td>\n",
       "      <td>126.0</td>\n",
       "      <td>127.0</td>\n",
       "      <td>NaN</td>\n",
       "      <td>4.0</td>\n",
       "      <td>NaN</td>\n",
       "      <td>4.0</td>\n",
       "      <td>NaN</td>\n",
       "      <td>NaN</td>\n",
       "    </tr>\n",
       "    <tr>\n",
       "      <th>4</th>\n",
       "      <td>2014-11-01</td>\n",
       "      <td>2.0</td>\n",
       "      <td>8.0</td>\n",
       "      <td>8.0</td>\n",
       "      <td>2.0</td>\n",
       "      <td>NaN</td>\n",
       "      <td>1.0</td>\n",
       "      <td>NaN</td>\n",
       "      <td>2.0</td>\n",
       "      <td>1.0</td>\n",
       "      <td>...</td>\n",
       "      <td>2.0</td>\n",
       "      <td>NaN</td>\n",
       "      <td>81.0</td>\n",
       "      <td>98.0</td>\n",
       "      <td>NaN</td>\n",
       "      <td>1.0</td>\n",
       "      <td>NaN</td>\n",
       "      <td>2.0</td>\n",
       "      <td>NaN</td>\n",
       "      <td>NaN</td>\n",
       "    </tr>\n",
       "  </tbody>\n",
       "</table>\n",
       "<p>5 rows × 4977 columns</p>\n",
       "</div>"
      ],
      "text/plain": [
       "id   key_date  00-00000003  00-00000004  00-00000005  00-00000009  \\\n",
       "0  2014-07-01          4.0          4.0          6.0          NaN   \n",
       "1  2014-08-01          1.0          3.0          8.0          1.0   \n",
       "2  2014-09-01          7.0         10.0          9.0          NaN   \n",
       "3  2014-10-01          2.0          5.0          9.0          NaN   \n",
       "4  2014-11-01          2.0          8.0          8.0          2.0   \n",
       "\n",
       "id  00-00000010  00-00000011  00-00000012  00-00000018  00-00000021  \\\n",
       "0           NaN          NaN          NaN          NaN          NaN   \n",
       "1           2.0          NaN          NaN          NaN          NaN   \n",
       "2           NaN          1.0          NaN          1.0          NaN   \n",
       "3           NaN          1.0          NaN          1.0          NaN   \n",
       "4           NaN          1.0          NaN          2.0          1.0   \n",
       "\n",
       "id     ...       УТ000000984  УТ000000998  УТ000001012  УТ000001013  \\\n",
       "0      ...               1.0          NaN         19.0         53.0   \n",
       "1      ...               6.0          NaN        107.0        104.0   \n",
       "2      ...               5.0          NaN        129.0         80.0   \n",
       "3      ...               6.0          NaN        126.0        127.0   \n",
       "4      ...               2.0          NaN         81.0         98.0   \n",
       "\n",
       "id  УТ000001139  УТ000001140  УТ000001251  УТ000001301  УТ000001302  \\\n",
       "0           NaN          NaN          NaN          NaN          NaN   \n",
       "1           NaN          3.0          2.0          3.0          NaN   \n",
       "2           NaN          6.0          NaN          3.0          NaN   \n",
       "3           NaN          4.0          NaN          4.0          NaN   \n",
       "4           NaN          1.0          NaN          2.0          NaN   \n",
       "\n",
       "id  ЯЧ-00000001  \n",
       "0           NaN  \n",
       "1           NaN  \n",
       "2           NaN  \n",
       "3           NaN  \n",
       "4           NaN  \n",
       "\n",
       "[5 rows x 4977 columns]"
      ]
     },
     "execution_count": 12,
     "metadata": {},
     "output_type": "execute_result"
    }
   ],
   "source": [
    "#month\n",
    "#key date is the 1st day of month\n",
    "temp_month = temp[['id', 'name', 'sales', 'date', 'month_str', 'year_str']]\n",
    "temp_month['key'] = temp_month['year_str'] + \"-\" + temp_month['month_str'] + \"-1\"\n",
    "temp_month['key_date'] = pd.to_datetime(temp_month['key'], format='%Y-%m-%d') \n",
    "sales_month = getGrouppedSales(temp_month)\n",
    "del temp_month\n",
    "sales_month.head()"
   ]
  },
  {
   "cell_type": "code",
   "execution_count": 13,
   "metadata": {},
   "outputs": [
    {
     "data": {
      "text/html": [
       "<div>\n",
       "<style>\n",
       "    .dataframe thead tr:only-child th {\n",
       "        text-align: right;\n",
       "    }\n",
       "\n",
       "    .dataframe thead th {\n",
       "        text-align: left;\n",
       "    }\n",
       "\n",
       "    .dataframe tbody tr th {\n",
       "        vertical-align: top;\n",
       "    }\n",
       "</style>\n",
       "<table border=\"1\" class=\"dataframe\">\n",
       "  <thead>\n",
       "    <tr style=\"text-align: right;\">\n",
       "      <th>id</th>\n",
       "      <th>key_date</th>\n",
       "      <th>00-00000003</th>\n",
       "      <th>00-00000004</th>\n",
       "      <th>00-00000005</th>\n",
       "      <th>00-00000009</th>\n",
       "      <th>00-00000010</th>\n",
       "      <th>00-00000011</th>\n",
       "      <th>00-00000012</th>\n",
       "      <th>00-00000018</th>\n",
       "      <th>00-00000021</th>\n",
       "      <th>...</th>\n",
       "      <th>УТ000000984</th>\n",
       "      <th>УТ000000998</th>\n",
       "      <th>УТ000001012</th>\n",
       "      <th>УТ000001013</th>\n",
       "      <th>УТ000001139</th>\n",
       "      <th>УТ000001140</th>\n",
       "      <th>УТ000001251</th>\n",
       "      <th>УТ000001301</th>\n",
       "      <th>УТ000001302</th>\n",
       "      <th>ЯЧ-00000001</th>\n",
       "    </tr>\n",
       "  </thead>\n",
       "  <tbody>\n",
       "    <tr>\n",
       "      <th>0</th>\n",
       "      <td>2014-07-01</td>\n",
       "      <td>1.0</td>\n",
       "      <td>1.0</td>\n",
       "      <td>1.0</td>\n",
       "      <td>NaN</td>\n",
       "      <td>NaN</td>\n",
       "      <td>NaN</td>\n",
       "      <td>NaN</td>\n",
       "      <td>NaN</td>\n",
       "      <td>NaN</td>\n",
       "      <td>...</td>\n",
       "      <td>NaN</td>\n",
       "      <td>NaN</td>\n",
       "      <td>7.0</td>\n",
       "      <td>1.0</td>\n",
       "      <td>NaN</td>\n",
       "      <td>NaN</td>\n",
       "      <td>NaN</td>\n",
       "      <td>NaN</td>\n",
       "      <td>NaN</td>\n",
       "      <td>NaN</td>\n",
       "    </tr>\n",
       "    <tr>\n",
       "      <th>1</th>\n",
       "      <td>2014-07-15</td>\n",
       "      <td>3.0</td>\n",
       "      <td>3.0</td>\n",
       "      <td>5.0</td>\n",
       "      <td>NaN</td>\n",
       "      <td>NaN</td>\n",
       "      <td>NaN</td>\n",
       "      <td>NaN</td>\n",
       "      <td>NaN</td>\n",
       "      <td>NaN</td>\n",
       "      <td>...</td>\n",
       "      <td>1.0</td>\n",
       "      <td>NaN</td>\n",
       "      <td>12.0</td>\n",
       "      <td>52.0</td>\n",
       "      <td>NaN</td>\n",
       "      <td>NaN</td>\n",
       "      <td>NaN</td>\n",
       "      <td>NaN</td>\n",
       "      <td>NaN</td>\n",
       "      <td>NaN</td>\n",
       "    </tr>\n",
       "    <tr>\n",
       "      <th>2</th>\n",
       "      <td>2014-08-01</td>\n",
       "      <td>NaN</td>\n",
       "      <td>2.0</td>\n",
       "      <td>3.0</td>\n",
       "      <td>NaN</td>\n",
       "      <td>1.0</td>\n",
       "      <td>NaN</td>\n",
       "      <td>NaN</td>\n",
       "      <td>NaN</td>\n",
       "      <td>NaN</td>\n",
       "      <td>...</td>\n",
       "      <td>2.0</td>\n",
       "      <td>NaN</td>\n",
       "      <td>35.0</td>\n",
       "      <td>46.0</td>\n",
       "      <td>NaN</td>\n",
       "      <td>NaN</td>\n",
       "      <td>NaN</td>\n",
       "      <td>1.0</td>\n",
       "      <td>NaN</td>\n",
       "      <td>NaN</td>\n",
       "    </tr>\n",
       "    <tr>\n",
       "      <th>3</th>\n",
       "      <td>2014-08-15</td>\n",
       "      <td>1.0</td>\n",
       "      <td>1.0</td>\n",
       "      <td>5.0</td>\n",
       "      <td>1.0</td>\n",
       "      <td>1.0</td>\n",
       "      <td>NaN</td>\n",
       "      <td>NaN</td>\n",
       "      <td>NaN</td>\n",
       "      <td>NaN</td>\n",
       "      <td>...</td>\n",
       "      <td>4.0</td>\n",
       "      <td>NaN</td>\n",
       "      <td>72.0</td>\n",
       "      <td>58.0</td>\n",
       "      <td>NaN</td>\n",
       "      <td>3.0</td>\n",
       "      <td>2.0</td>\n",
       "      <td>2.0</td>\n",
       "      <td>NaN</td>\n",
       "      <td>NaN</td>\n",
       "    </tr>\n",
       "    <tr>\n",
       "      <th>4</th>\n",
       "      <td>2014-09-01</td>\n",
       "      <td>4.0</td>\n",
       "      <td>7.0</td>\n",
       "      <td>4.0</td>\n",
       "      <td>NaN</td>\n",
       "      <td>NaN</td>\n",
       "      <td>NaN</td>\n",
       "      <td>NaN</td>\n",
       "      <td>NaN</td>\n",
       "      <td>NaN</td>\n",
       "      <td>...</td>\n",
       "      <td>3.0</td>\n",
       "      <td>NaN</td>\n",
       "      <td>68.0</td>\n",
       "      <td>38.0</td>\n",
       "      <td>NaN</td>\n",
       "      <td>6.0</td>\n",
       "      <td>NaN</td>\n",
       "      <td>NaN</td>\n",
       "      <td>NaN</td>\n",
       "      <td>NaN</td>\n",
       "    </tr>\n",
       "  </tbody>\n",
       "</table>\n",
       "<p>5 rows × 4977 columns</p>\n",
       "</div>"
      ],
      "text/plain": [
       "id   key_date  00-00000003  00-00000004  00-00000005  00-00000009  \\\n",
       "0  2014-07-01          1.0          1.0          1.0          NaN   \n",
       "1  2014-07-15          3.0          3.0          5.0          NaN   \n",
       "2  2014-08-01          NaN          2.0          3.0          NaN   \n",
       "3  2014-08-15          1.0          1.0          5.0          1.0   \n",
       "4  2014-09-01          4.0          7.0          4.0          NaN   \n",
       "\n",
       "id  00-00000010  00-00000011  00-00000012  00-00000018  00-00000021  \\\n",
       "0           NaN          NaN          NaN          NaN          NaN   \n",
       "1           NaN          NaN          NaN          NaN          NaN   \n",
       "2           1.0          NaN          NaN          NaN          NaN   \n",
       "3           1.0          NaN          NaN          NaN          NaN   \n",
       "4           NaN          NaN          NaN          NaN          NaN   \n",
       "\n",
       "id     ...       УТ000000984  УТ000000998  УТ000001012  УТ000001013  \\\n",
       "0      ...               NaN          NaN          7.0          1.0   \n",
       "1      ...               1.0          NaN         12.0         52.0   \n",
       "2      ...               2.0          NaN         35.0         46.0   \n",
       "3      ...               4.0          NaN         72.0         58.0   \n",
       "4      ...               3.0          NaN         68.0         38.0   \n",
       "\n",
       "id  УТ000001139  УТ000001140  УТ000001251  УТ000001301  УТ000001302  \\\n",
       "0           NaN          NaN          NaN          NaN          NaN   \n",
       "1           NaN          NaN          NaN          NaN          NaN   \n",
       "2           NaN          NaN          NaN          1.0          NaN   \n",
       "3           NaN          3.0          2.0          2.0          NaN   \n",
       "4           NaN          6.0          NaN          NaN          NaN   \n",
       "\n",
       "id  ЯЧ-00000001  \n",
       "0           NaN  \n",
       "1           NaN  \n",
       "2           NaN  \n",
       "3           NaN  \n",
       "4           NaN  \n",
       "\n",
       "[5 rows x 4977 columns]"
      ]
     },
     "execution_count": 13,
     "metadata": {},
     "output_type": "execute_result"
    }
   ],
   "source": [
    "#2 weeks \n",
    "#key date =  set 1st day - if 1st or 2nd week of month, and 15th day - if 3rd or 4th week of month\n",
    "temp_2week = temp[['id', 'name', 'sales', 'date', 'month_str', 'year_str', 'day']]\n",
    "temp_2week['week_str'] = np.where(temp_2week['day'] < 15, '1', '15')\n",
    "temp_2week['key'] = temp_2week['year_str'] + \"-\" + temp_2week['month_str'] + '-' + temp_2week['week_str']\n",
    "temp_2week['key_date'] = pd.to_datetime(temp_2week['key'], format='%Y-%m-%d')\n",
    "sales_2week = getGrouppedSales(temp_2week)\n",
    "del temp_2week\n",
    "sales_2week.head()"
   ]
  },
  {
   "cell_type": "code",
   "execution_count": 14,
   "metadata": {},
   "outputs": [
    {
     "data": {
      "text/html": [
       "<div>\n",
       "<style>\n",
       "    .dataframe thead tr:only-child th {\n",
       "        text-align: right;\n",
       "    }\n",
       "\n",
       "    .dataframe thead th {\n",
       "        text-align: left;\n",
       "    }\n",
       "\n",
       "    .dataframe tbody tr th {\n",
       "        vertical-align: top;\n",
       "    }\n",
       "</style>\n",
       "<table border=\"1\" class=\"dataframe\">\n",
       "  <thead>\n",
       "    <tr style=\"text-align: right;\">\n",
       "      <th>id</th>\n",
       "      <th>key_date</th>\n",
       "      <th>00-00000003</th>\n",
       "      <th>00-00000004</th>\n",
       "      <th>00-00000005</th>\n",
       "      <th>00-00000009</th>\n",
       "      <th>00-00000010</th>\n",
       "      <th>00-00000011</th>\n",
       "      <th>00-00000012</th>\n",
       "      <th>00-00000018</th>\n",
       "      <th>00-00000021</th>\n",
       "      <th>...</th>\n",
       "      <th>УТ000000984</th>\n",
       "      <th>УТ000000998</th>\n",
       "      <th>УТ000001012</th>\n",
       "      <th>УТ000001013</th>\n",
       "      <th>УТ000001139</th>\n",
       "      <th>УТ000001140</th>\n",
       "      <th>УТ000001251</th>\n",
       "      <th>УТ000001301</th>\n",
       "      <th>УТ000001302</th>\n",
       "      <th>ЯЧ-00000001</th>\n",
       "    </tr>\n",
       "  </thead>\n",
       "  <tbody>\n",
       "    <tr>\n",
       "      <th>0</th>\n",
       "      <td>2014-07-08</td>\n",
       "      <td>1.0</td>\n",
       "      <td>1.0</td>\n",
       "      <td>1.0</td>\n",
       "      <td>NaN</td>\n",
       "      <td>NaN</td>\n",
       "      <td>NaN</td>\n",
       "      <td>NaN</td>\n",
       "      <td>NaN</td>\n",
       "      <td>NaN</td>\n",
       "      <td>...</td>\n",
       "      <td>NaN</td>\n",
       "      <td>NaN</td>\n",
       "      <td>7.0</td>\n",
       "      <td>1.0</td>\n",
       "      <td>NaN</td>\n",
       "      <td>NaN</td>\n",
       "      <td>NaN</td>\n",
       "      <td>NaN</td>\n",
       "      <td>NaN</td>\n",
       "      <td>NaN</td>\n",
       "    </tr>\n",
       "    <tr>\n",
       "      <th>1</th>\n",
       "      <td>2014-07-15</td>\n",
       "      <td>NaN</td>\n",
       "      <td>2.0</td>\n",
       "      <td>2.0</td>\n",
       "      <td>NaN</td>\n",
       "      <td>NaN</td>\n",
       "      <td>NaN</td>\n",
       "      <td>NaN</td>\n",
       "      <td>NaN</td>\n",
       "      <td>NaN</td>\n",
       "      <td>...</td>\n",
       "      <td>1.0</td>\n",
       "      <td>NaN</td>\n",
       "      <td>6.0</td>\n",
       "      <td>22.0</td>\n",
       "      <td>NaN</td>\n",
       "      <td>NaN</td>\n",
       "      <td>NaN</td>\n",
       "      <td>NaN</td>\n",
       "      <td>NaN</td>\n",
       "      <td>NaN</td>\n",
       "    </tr>\n",
       "    <tr>\n",
       "      <th>2</th>\n",
       "      <td>2014-07-22</td>\n",
       "      <td>3.0</td>\n",
       "      <td>1.0</td>\n",
       "      <td>3.0</td>\n",
       "      <td>NaN</td>\n",
       "      <td>NaN</td>\n",
       "      <td>NaN</td>\n",
       "      <td>NaN</td>\n",
       "      <td>NaN</td>\n",
       "      <td>NaN</td>\n",
       "      <td>...</td>\n",
       "      <td>NaN</td>\n",
       "      <td>NaN</td>\n",
       "      <td>6.0</td>\n",
       "      <td>30.0</td>\n",
       "      <td>NaN</td>\n",
       "      <td>NaN</td>\n",
       "      <td>NaN</td>\n",
       "      <td>NaN</td>\n",
       "      <td>NaN</td>\n",
       "      <td>NaN</td>\n",
       "    </tr>\n",
       "    <tr>\n",
       "      <th>3</th>\n",
       "      <td>2014-08-01</td>\n",
       "      <td>NaN</td>\n",
       "      <td>NaN</td>\n",
       "      <td>NaN</td>\n",
       "      <td>NaN</td>\n",
       "      <td>1.0</td>\n",
       "      <td>NaN</td>\n",
       "      <td>NaN</td>\n",
       "      <td>NaN</td>\n",
       "      <td>NaN</td>\n",
       "      <td>...</td>\n",
       "      <td>1.0</td>\n",
       "      <td>NaN</td>\n",
       "      <td>19.0</td>\n",
       "      <td>33.0</td>\n",
       "      <td>NaN</td>\n",
       "      <td>NaN</td>\n",
       "      <td>NaN</td>\n",
       "      <td>1.0</td>\n",
       "      <td>NaN</td>\n",
       "      <td>NaN</td>\n",
       "    </tr>\n",
       "    <tr>\n",
       "      <th>4</th>\n",
       "      <td>2014-08-08</td>\n",
       "      <td>NaN</td>\n",
       "      <td>2.0</td>\n",
       "      <td>3.0</td>\n",
       "      <td>NaN</td>\n",
       "      <td>NaN</td>\n",
       "      <td>NaN</td>\n",
       "      <td>NaN</td>\n",
       "      <td>NaN</td>\n",
       "      <td>NaN</td>\n",
       "      <td>...</td>\n",
       "      <td>1.0</td>\n",
       "      <td>NaN</td>\n",
       "      <td>16.0</td>\n",
       "      <td>13.0</td>\n",
       "      <td>NaN</td>\n",
       "      <td>NaN</td>\n",
       "      <td>NaN</td>\n",
       "      <td>NaN</td>\n",
       "      <td>NaN</td>\n",
       "      <td>NaN</td>\n",
       "    </tr>\n",
       "  </tbody>\n",
       "</table>\n",
       "<p>5 rows × 4977 columns</p>\n",
       "</div>"
      ],
      "text/plain": [
       "id   key_date  00-00000003  00-00000004  00-00000005  00-00000009  \\\n",
       "0  2014-07-08          1.0          1.0          1.0          NaN   \n",
       "1  2014-07-15          NaN          2.0          2.0          NaN   \n",
       "2  2014-07-22          3.0          1.0          3.0          NaN   \n",
       "3  2014-08-01          NaN          NaN          NaN          NaN   \n",
       "4  2014-08-08          NaN          2.0          3.0          NaN   \n",
       "\n",
       "id  00-00000010  00-00000011  00-00000012  00-00000018  00-00000021  \\\n",
       "0           NaN          NaN          NaN          NaN          NaN   \n",
       "1           NaN          NaN          NaN          NaN          NaN   \n",
       "2           NaN          NaN          NaN          NaN          NaN   \n",
       "3           1.0          NaN          NaN          NaN          NaN   \n",
       "4           NaN          NaN          NaN          NaN          NaN   \n",
       "\n",
       "id     ...       УТ000000984  УТ000000998  УТ000001012  УТ000001013  \\\n",
       "0      ...               NaN          NaN          7.0          1.0   \n",
       "1      ...               1.0          NaN          6.0         22.0   \n",
       "2      ...               NaN          NaN          6.0         30.0   \n",
       "3      ...               1.0          NaN         19.0         33.0   \n",
       "4      ...               1.0          NaN         16.0         13.0   \n",
       "\n",
       "id  УТ000001139  УТ000001140  УТ000001251  УТ000001301  УТ000001302  \\\n",
       "0           NaN          NaN          NaN          NaN          NaN   \n",
       "1           NaN          NaN          NaN          NaN          NaN   \n",
       "2           NaN          NaN          NaN          NaN          NaN   \n",
       "3           NaN          NaN          NaN          1.0          NaN   \n",
       "4           NaN          NaN          NaN          NaN          NaN   \n",
       "\n",
       "id  ЯЧ-00000001  \n",
       "0           NaN  \n",
       "1           NaN  \n",
       "2           NaN  \n",
       "3           NaN  \n",
       "4           NaN  \n",
       "\n",
       "[5 rows x 4977 columns]"
      ]
     },
     "execution_count": 14,
     "metadata": {},
     "output_type": "execute_result"
    }
   ],
   "source": [
    "#weekly\n",
    "#key date =  day of month defined by function below\n",
    "def define_week(x):\n",
    "    if (x > 0 and x < 8):\n",
    "        return '1'\n",
    "    if (x > 7 and x < 15):\n",
    "        return '8'\n",
    "    if (x > 14 and x < 22):\n",
    "        return '15'\n",
    "    if (x > 21 and x < 32):\n",
    "        return '22'\n",
    "\n",
    "temp_week = temp[['id', 'name', 'sales', 'date', 'month_str', 'year_str', 'day']]\n",
    "temp_week['week_str'] = temp_week['day'].map(lambda x: define_week(x))\n",
    "temp_week['key'] = temp_week['year_str'] + \"-\" + temp_week['month_str'] + '-' + temp_week['week_str']\n",
    "temp_week['key_date'] = pd.to_datetime(temp_week['key'], format='%Y-%m-%d')\n",
    "sales_week = getGrouppedSales(temp_week)\n",
    "del temp_week\n",
    "\n",
    "sales_week.head()"
   ]
  },
  {
   "cell_type": "code",
   "execution_count": 15,
   "metadata": {},
   "outputs": [
    {
     "data": {
      "text/html": [
       "<div>\n",
       "<style>\n",
       "    .dataframe thead tr:only-child th {\n",
       "        text-align: right;\n",
       "    }\n",
       "\n",
       "    .dataframe thead th {\n",
       "        text-align: left;\n",
       "    }\n",
       "\n",
       "    .dataframe tbody tr th {\n",
       "        vertical-align: top;\n",
       "    }\n",
       "</style>\n",
       "<table border=\"1\" class=\"dataframe\">\n",
       "  <thead>\n",
       "    <tr style=\"text-align: right;\">\n",
       "      <th>id</th>\n",
       "      <th>key_date</th>\n",
       "      <th>00-00000003</th>\n",
       "      <th>00-00000004</th>\n",
       "      <th>00-00000005</th>\n",
       "      <th>00-00000009</th>\n",
       "      <th>00-00000010</th>\n",
       "      <th>00-00000011</th>\n",
       "      <th>00-00000012</th>\n",
       "      <th>00-00000018</th>\n",
       "      <th>00-00000021</th>\n",
       "      <th>...</th>\n",
       "      <th>УТ000000984</th>\n",
       "      <th>УТ000000998</th>\n",
       "      <th>УТ000001012</th>\n",
       "      <th>УТ000001013</th>\n",
       "      <th>УТ000001139</th>\n",
       "      <th>УТ000001140</th>\n",
       "      <th>УТ000001251</th>\n",
       "      <th>УТ000001301</th>\n",
       "      <th>УТ000001302</th>\n",
       "      <th>ЯЧ-00000001</th>\n",
       "    </tr>\n",
       "  </thead>\n",
       "  <tbody>\n",
       "    <tr>\n",
       "      <th>0</th>\n",
       "      <td>2014-07-11</td>\n",
       "      <td>NaN</td>\n",
       "      <td>NaN</td>\n",
       "      <td>NaN</td>\n",
       "      <td>NaN</td>\n",
       "      <td>NaN</td>\n",
       "      <td>NaN</td>\n",
       "      <td>NaN</td>\n",
       "      <td>NaN</td>\n",
       "      <td>NaN</td>\n",
       "      <td>...</td>\n",
       "      <td>NaN</td>\n",
       "      <td>NaN</td>\n",
       "      <td>3.0</td>\n",
       "      <td>NaN</td>\n",
       "      <td>NaN</td>\n",
       "      <td>NaN</td>\n",
       "      <td>NaN</td>\n",
       "      <td>NaN</td>\n",
       "      <td>NaN</td>\n",
       "      <td>NaN</td>\n",
       "    </tr>\n",
       "    <tr>\n",
       "      <th>1</th>\n",
       "      <td>2014-07-12</td>\n",
       "      <td>1.0</td>\n",
       "      <td>NaN</td>\n",
       "      <td>1.0</td>\n",
       "      <td>NaN</td>\n",
       "      <td>NaN</td>\n",
       "      <td>NaN</td>\n",
       "      <td>NaN</td>\n",
       "      <td>NaN</td>\n",
       "      <td>NaN</td>\n",
       "      <td>...</td>\n",
       "      <td>NaN</td>\n",
       "      <td>NaN</td>\n",
       "      <td>4.0</td>\n",
       "      <td>NaN</td>\n",
       "      <td>NaN</td>\n",
       "      <td>NaN</td>\n",
       "      <td>NaN</td>\n",
       "      <td>NaN</td>\n",
       "      <td>NaN</td>\n",
       "      <td>NaN</td>\n",
       "    </tr>\n",
       "    <tr>\n",
       "      <th>2</th>\n",
       "      <td>2014-07-13</td>\n",
       "      <td>NaN</td>\n",
       "      <td>NaN</td>\n",
       "      <td>NaN</td>\n",
       "      <td>NaN</td>\n",
       "      <td>NaN</td>\n",
       "      <td>NaN</td>\n",
       "      <td>NaN</td>\n",
       "      <td>NaN</td>\n",
       "      <td>NaN</td>\n",
       "      <td>...</td>\n",
       "      <td>NaN</td>\n",
       "      <td>NaN</td>\n",
       "      <td>NaN</td>\n",
       "      <td>NaN</td>\n",
       "      <td>NaN</td>\n",
       "      <td>NaN</td>\n",
       "      <td>NaN</td>\n",
       "      <td>NaN</td>\n",
       "      <td>NaN</td>\n",
       "      <td>NaN</td>\n",
       "    </tr>\n",
       "    <tr>\n",
       "      <th>3</th>\n",
       "      <td>2014-07-14</td>\n",
       "      <td>NaN</td>\n",
       "      <td>1.0</td>\n",
       "      <td>NaN</td>\n",
       "      <td>NaN</td>\n",
       "      <td>NaN</td>\n",
       "      <td>NaN</td>\n",
       "      <td>NaN</td>\n",
       "      <td>NaN</td>\n",
       "      <td>NaN</td>\n",
       "      <td>...</td>\n",
       "      <td>NaN</td>\n",
       "      <td>NaN</td>\n",
       "      <td>NaN</td>\n",
       "      <td>1.0</td>\n",
       "      <td>NaN</td>\n",
       "      <td>NaN</td>\n",
       "      <td>NaN</td>\n",
       "      <td>NaN</td>\n",
       "      <td>NaN</td>\n",
       "      <td>NaN</td>\n",
       "    </tr>\n",
       "    <tr>\n",
       "      <th>4</th>\n",
       "      <td>2014-07-15</td>\n",
       "      <td>NaN</td>\n",
       "      <td>1.0</td>\n",
       "      <td>NaN</td>\n",
       "      <td>NaN</td>\n",
       "      <td>NaN</td>\n",
       "      <td>NaN</td>\n",
       "      <td>NaN</td>\n",
       "      <td>NaN</td>\n",
       "      <td>NaN</td>\n",
       "      <td>...</td>\n",
       "      <td>NaN</td>\n",
       "      <td>NaN</td>\n",
       "      <td>3.0</td>\n",
       "      <td>6.0</td>\n",
       "      <td>NaN</td>\n",
       "      <td>NaN</td>\n",
       "      <td>NaN</td>\n",
       "      <td>NaN</td>\n",
       "      <td>NaN</td>\n",
       "      <td>NaN</td>\n",
       "    </tr>\n",
       "  </tbody>\n",
       "</table>\n",
       "<p>5 rows × 4977 columns</p>\n",
       "</div>"
      ],
      "text/plain": [
       "id    key_date  00-00000003  00-00000004  00-00000005  00-00000009  \\\n",
       "0   2014-07-11          NaN          NaN          NaN          NaN   \n",
       "1   2014-07-12          1.0          NaN          1.0          NaN   \n",
       "2   2014-07-13          NaN          NaN          NaN          NaN   \n",
       "3   2014-07-14          NaN          1.0          NaN          NaN   \n",
       "4   2014-07-15          NaN          1.0          NaN          NaN   \n",
       "\n",
       "id  00-00000010  00-00000011  00-00000012  00-00000018  00-00000021  \\\n",
       "0           NaN          NaN          NaN          NaN          NaN   \n",
       "1           NaN          NaN          NaN          NaN          NaN   \n",
       "2           NaN          NaN          NaN          NaN          NaN   \n",
       "3           NaN          NaN          NaN          NaN          NaN   \n",
       "4           NaN          NaN          NaN          NaN          NaN   \n",
       "\n",
       "id     ...       УТ000000984  УТ000000998  УТ000001012  УТ000001013  \\\n",
       "0      ...               NaN          NaN          3.0          NaN   \n",
       "1      ...               NaN          NaN          4.0          NaN   \n",
       "2      ...               NaN          NaN          NaN          NaN   \n",
       "3      ...               NaN          NaN          NaN          1.0   \n",
       "4      ...               NaN          NaN          3.0          6.0   \n",
       "\n",
       "id  УТ000001139  УТ000001140  УТ000001251  УТ000001301  УТ000001302  \\\n",
       "0           NaN          NaN          NaN          NaN          NaN   \n",
       "1           NaN          NaN          NaN          NaN          NaN   \n",
       "2           NaN          NaN          NaN          NaN          NaN   \n",
       "3           NaN          NaN          NaN          NaN          NaN   \n",
       "4           NaN          NaN          NaN          NaN          NaN   \n",
       "\n",
       "id  ЯЧ-00000001  \n",
       "0           NaN  \n",
       "1           NaN  \n",
       "2           NaN  \n",
       "3           NaN  \n",
       "4           NaN  \n",
       "\n",
       "[5 rows x 4977 columns]"
      ]
     },
     "execution_count": 15,
     "metadata": {},
     "output_type": "execute_result"
    }
   ],
   "source": [
    "#daily\n",
    "# key date is the same as date\n",
    "temp_day = temp[['id', 'name', 'sales', 'date']]\n",
    "temp_day['key_date'] = temp_day['date']\n",
    "sales_day = getGrouppedSales(temp_day)\n",
    "del temp_day\n",
    "\n",
    "sales_day.head()"
   ]
  },
  {
   "cell_type": "markdown",
   "metadata": {},
   "source": [
    "### validate time series consistency"
   ]
  },
  {
   "cell_type": "code",
   "execution_count": 16,
   "metadata": {
    "collapsed": true
   },
   "outputs": [],
   "source": [
    "# time interval between any two neighbour points of time series should be the same\n",
    "# each point should be presented only one time \n",
    "import datetime \n",
    "\n",
    "one_month = '1 month'\n",
    "two_weeks = '2 weeks'\n",
    "one_week = '1 week'\n",
    "one_day = '1 day'\n",
    "\n",
    "\n",
    "def missingDates(cur, target):\n",
    "    temp = pd.DataFrame({'actual': cur, 'target': target})\n",
    "    \n",
    "def weekFirstDate(date):\n",
    "    week_first_date = date\n",
    "    if (week_first_date.day > 1):\n",
    "        week_first_date = week_first_date.replace(day=1)\n",
    "    return week_first_date\n",
    "    \n",
    "def getExpectedDateTimeSeries(dates, time_interval):\n",
    "    start_date = dates.min()\n",
    "    end_date = dates.max()   \n",
    "    if (time_interval == one_month):\n",
    "        expected_dates = pd.date_range(start_date, end_date, freq=\"MS\")\n",
    "    elif (time_interval == two_weeks):\n",
    "        first_weeks = pd.date_range(weekFirstDate(start_date), end_date, freq=\"MS\") #first week\n",
    "        second_weeks = first_weeks.map(lambda x: x + datetime.timedelta(days=14)) #second week\n",
    "        expected_dates = first_weeks.append(second_weeks).sort_values()\n",
    "        expected_dates = expected_dates[np.logical_and(expected_dates >= start_date, expected_dates <= end_date)]\n",
    "    elif (time_interval == one_week):\n",
    "        first_weeks = pd.date_range(weekFirstDate(start_date), end_date, freq=\"MS\") #first week\n",
    "        second_weeks = first_weeks.map(lambda x: x + datetime.timedelta(days=7)) #second week\n",
    "        third_weeks = first_weeks.map(lambda x: x + datetime.timedelta(days=14)) #third week\n",
    "        fourth_weeks = first_weeks.map(lambda x: x + datetime.timedelta(days=21)) #third week\n",
    "        expected_dates = first_weeks.append(second_weeks).append(third_weeks).append(fourth_weeks).sort_values()\n",
    "        expected_dates = expected_dates[np.logical_and(expected_dates >= start_date, expected_dates <= end_date)]\n",
    "    elif (time_interval == one_day):\n",
    "        expected_dates = pd.date_range(start_date, end_date, freq=\"1d\")\n",
    "    return expected_dates\n",
    "    \n",
    "\n",
    "def validTimeSeriesInternal(dates, time_interval):\n",
    "    if (len(dates) != len(dates.unique())):\n",
    "        print(\"Dates vector is not unque!\")\n",
    "        return (False, [])\n",
    "    \n",
    "    expected_dates = getExpectedDateTimeSeries(dates, time_interval)\n",
    "    if (len(expected_dates) == len(dates)):\n",
    "        date_df = pd.DataFrame({'date': dates, 'expected_date': expected_dates})\n",
    "        date_df['isValid'] = date_df['date'] == date_df['expected_date']\n",
    "        isValid = (False in date_df['isValid'].unique()) == False            \n",
    "    else:\n",
    "        print(\"Time series is not valid!\",\"actual:\", len(dates), \"expected:\", len(expected_dates))\n",
    "        isValid = False            \n",
    "    return (isValid, expected_dates)\n",
    "\n",
    "def validTimeSeries(data, time_interval):\n",
    "    dates = data['key_date']\n",
    "    result_ts = validTimeSeriesInternal(dates, time_interval)\n",
    "    if(result_ts[0]):\n",
    "        print(\"\", time_interval, \"time series VALID\")\n",
    "    else:\n",
    "        printError(time_interval + \" time series NOT valid\")\n",
    "        if (len(dates) < len(result_ts[1])):\n",
    "            printError(\"Series has missing dates\")\n",
    "            if (time_interval == one_day):\n",
    "                data = data.sort_values(by=['key_date'], ascending=[True])\n",
    "                data.set_index('key_date', inplace=True)\n",
    "                data.index = pd.to_datetime(data.index,  format='%Y-%m-%d')\n",
    "                data = data.resample('D').reset_index()   \n",
    "                printSuccess(\" missing values fixed\")\n",
    "        else:\n",
    "            printError(\"Series has extra dates. Error in grouping or validation\") \n",
    "    return data\n",
    "            \n",
    "        \n",
    "def showMissingValues(data, expected):\n",
    "    dates = data['key_date']\n",
    "    curr_dates_df = pd.DataFrame({'cur_date': dates})\n",
    "    curr_dates_df['cur_date'] = pd.to_datetime(curr_dates_df['cur_date'])\n",
    "    expected_dates_df = pd.DataFrame({'expected_date': expected})\n",
    "    diff_dates = curr_dates_df.merge(expected_dates_df, how='outer', left_on='cur_date', right_on=\"expected_date\")\n",
    "    missing_dates = diff_dates[diff_dates['cur_date'].isnull()]['expected_date']\n",
    "    print(missing_dates)\n",
    "    #print(diff_dates[diff_dates['cur_date'].isnull()]['expected_date'])\n",
    "   "
   ]
  },
  {
   "cell_type": "code",
   "execution_count": 17,
   "metadata": {},
   "outputs": [
    {
     "name": "stdout",
     "output_type": "stream",
     "text": [
      " 1 month time series VALID\n",
      " 2 weeks time series VALID\n",
      " 1 week time series VALID\n",
      "Time series is not valid! actual: 1134 expected: 1137\n",
      "\u001b[31m 1 day time series NOT valid \u001b[0m\n",
      "\u001b[31m Series has missing dates \u001b[0m\n",
      "\u001b[92m missing values fixed\u001b[0m\n"
     ]
    }
   ],
   "source": [
    "sales_month = validTimeSeries(sales_month, one_month)\n",
    "sales_2week = validTimeSeries(sales_2week, two_weeks)\n",
    "sales_week = validTimeSeries(sales_week, one_week)\n",
    "sales_day =  validTimeSeries(sales_day, one_day)"
   ]
  },
  {
   "cell_type": "code",
   "execution_count": 313,
   "metadata": {},
   "outputs": [
    {
     "name": "stdout",
     "output_type": "stream",
     "text": [
      "38 76 150 1137\n"
     ]
    }
   ],
   "source": [
    "print(len(sales_month), len(sales_2week), len(sales_week), len(sales_day))"
   ]
  },
  {
   "cell_type": "markdown",
   "metadata": {},
   "source": [
    "### checking result"
   ]
  },
  {
   "cell_type": "code",
   "execution_count": 18,
   "metadata": {},
   "outputs": [
    {
     "name": "stdout",
     "output_type": "stream",
     "text": [
      "\u001b[31m Grouping is not correct: 2 cases. \u001b[0m\n",
      "      1 day  1 month  1 week  2 weeks         item     na  isvalid\n",
      "3021  25.01    25.01   25.01    25.01  99-00001166  25.01    False\n",
      "3572   5.20     5.20    5.20     5.20  99-00002384   5.20    False\n"
     ]
    }
   ],
   "source": [
    "unique_count = len(item_unique_ids)\n",
    "sales_summary = pd.DataFrame({'item': item_unique_ids, \n",
    "                              one_month:  np.repeat(np.nan, unique_count), \n",
    "                              two_weeks:  np.repeat(np.nan, unique_count), \n",
    "                              one_week:  np.repeat(np.nan, unique_count), \n",
    "                              one_day:  np.repeat(np.nan, unique_count),\n",
    "                              'na':   np.repeat(np.nan, unique_count)})\n",
    "#sales_summary.set_indexx('item')\n",
    "\n",
    "def sumSales(x):\n",
    "    return (sales_month[x].sum(), sales_2week[x].sum(),sales_week[x].sum(), sales_day[x].sum(),\n",
    "            items_sales_total[items_sales_total['id'] == x].iloc[0]['sales'])\n",
    "\n",
    "sales_summary[[one_month, two_weeks, one_week, one_day, 'na']] = sales_summary['item'].map(lambda x: sumSales(x)).apply(pd.Series)\n",
    "sales_summary['isvalid'] = sales_summary[one_month] == sales_summary[one_week]\n",
    "sales_summary['isvalid'] = np.logical_and(sales_summary['isvalid'], sales_summary[one_month] == sales_summary[one_week])\n",
    "sales_summary['isvalid'] = np.logical_and(sales_summary['isvalid'], sales_summary[one_month] == sales_summary[one_day])\n",
    "sales_summary['isvalid'] = np.logical_and(sales_summary['isvalid'], sales_summary[one_month] == sales_summary['na'])\n",
    "#sales_summary[one_month] == sales_summary[one_day]).values\n",
    "falsed = sales_summary[~sales_summary['isvalid']]\n",
    "\n",
    "if (len(falsed) > 0):\n",
    "    printError(\"Grouping is not correct: \" + str(len(falsed)) + \" cases.\")\n",
    "    print(falsed.head(len(falsed)))\n"
   ]
  },
  {
   "cell_type": "code",
   "execution_count": 19,
   "metadata": {},
   "outputs": [
    {
     "name": "stdout",
     "output_type": "stream",
     "text": [
      "actual 495\n",
      "calc 1137\n",
      "2511.0 2511.0\n"
     ]
    }
   ],
   "source": [
    "item = 'УТ000001012'\n",
    "itemActual = sales[sales['id'] == item][['date', 'sales']]\n",
    "itemActual['key'] = itemActual['date'].astype(str)\n",
    "itemActual = itemActual.groupby(['key'])['sales'].sum()\n",
    "itemActual = itemActual.to_frame().reset_index()\n",
    "itemActual['salesA'] = itemActual['sales'].astype(int)\n",
    "itemCalculated = sales_day[['key_date', item]]\n",
    "itemCalculated['key'] = itemCalculated['key_date'].astype(str)\n",
    "itemCalculated['salesC'] = itemCalculated[item]\n",
    "print('actual', len(itemActual))\n",
    "print('calc', len(itemCalculated))\n",
    "\n",
    "compareFull = itemActual.merge(itemCalculated, how='outer', on='key')\n",
    "compare = compareFull[['key', 'salesA', 'salesC']]\n",
    "compare = compare.replace(np.nan, 0)\n",
    "compare['isValid'] = compare['salesA'] == compare['salesC']\n",
    "compare[~compare['isValid']]\n",
    "print(compare['salesA'].sum(), compare['salesC'].sum())\n",
    "\n",
    "\n",
    "\n",
    "check1 = sales[sales['id'] == item][['date', 'sales']]\n",
    "check1['month'] = check1['date'].map(lambda x: x.month)\n",
    "check1['year'] = check1['date'].map(lambda x: x.year)\n",
    "check1['day'] = check1['date'].map(lambda x: x.day) \n"
   ]
  },
  {
   "cell_type": "code",
   "execution_count": 20,
   "metadata": {},
   "outputs": [
    {
     "data": {
      "text/html": [
       "<div>\n",
       "<style>\n",
       "    .dataframe thead tr:only-child th {\n",
       "        text-align: right;\n",
       "    }\n",
       "\n",
       "    .dataframe thead th {\n",
       "        text-align: left;\n",
       "    }\n",
       "\n",
       "    .dataframe tbody tr th {\n",
       "        vertical-align: top;\n",
       "    }\n",
       "</style>\n",
       "<table border=\"1\" class=\"dataframe\">\n",
       "  <thead>\n",
       "    <tr style=\"text-align: right;\">\n",
       "      <th></th>\n",
       "      <th>start_date</th>\n",
       "      <th>end_date</th>\n",
       "    </tr>\n",
       "  </thead>\n",
       "  <tbody>\n",
       "    <tr>\n",
       "      <th>na</th>\n",
       "      <td>2014-07-11</td>\n",
       "      <td>2017-08-20</td>\n",
       "    </tr>\n",
       "    <tr>\n",
       "      <th>1 month</th>\n",
       "      <td>2014-07-01 00:00:00</td>\n",
       "      <td>2017-08-01 00:00:00</td>\n",
       "    </tr>\n",
       "    <tr>\n",
       "      <th>2 weeks</th>\n",
       "      <td>2014-07-01 00:00:00</td>\n",
       "      <td>2017-08-15 00:00:00</td>\n",
       "    </tr>\n",
       "    <tr>\n",
       "      <th>1 week</th>\n",
       "      <td>2014-07-08 00:00:00</td>\n",
       "      <td>2017-08-15 00:00:00</td>\n",
       "    </tr>\n",
       "    <tr>\n",
       "      <th>1 day</th>\n",
       "      <td>2014-07-11 00:00:00</td>\n",
       "      <td>2017-08-20 00:00:00</td>\n",
       "    </tr>\n",
       "  </tbody>\n",
       "</table>\n",
       "</div>"
      ],
      "text/plain": [
       "                  start_date             end_date\n",
       "na                2014-07-11           2017-08-20\n",
       "1 month  2014-07-01 00:00:00  2017-08-01 00:00:00\n",
       "2 weeks  2014-07-01 00:00:00  2017-08-15 00:00:00\n",
       "1 week   2014-07-08 00:00:00  2017-08-15 00:00:00\n",
       "1 day    2014-07-11 00:00:00  2017-08-20 00:00:00"
      ]
     },
     "execution_count": 20,
     "metadata": {},
     "output_type": "execute_result"
    }
   ],
   "source": [
    "se_dates = pd.DataFrame(index=['na', one_month, two_weeks, one_week, one_day], columns = ['start_date', 'end_date'])\n",
    "se_dates['start_date'] = np.repeat(np.nan, 5)\n",
    "se_dates['end_date'] = np.repeat(np.nan, 5)\n",
    "\n",
    "se_dates.set_value(index='na', col='start_date', value=sales['date'].min())\n",
    "se_dates.set_value(index='na', col='end_date', value=sales['date'].max())\n",
    "\n",
    "se_dates.set_value(index=one_month, col='start_date', value=sales_month['key_date'].min())\n",
    "se_dates.set_value(index=one_month, col='end_date', value=sales_month['key_date'].max())\n",
    "\n",
    "se_dates.set_value(index=two_weeks, col='start_date', value=sales_2week['key_date'].min())\n",
    "se_dates.set_value(index=two_weeks, col='end_date', value=sales_2week['key_date'].max())\n",
    "\n",
    "se_dates.set_value(index=one_week, col='start_date', value=sales_week['key_date'].min())\n",
    "se_dates.set_value(index=one_week, col='end_date', value=sales_week['key_date'].max())\n",
    "\n",
    "se_dates.set_value(index=one_day, col='start_date', value=sales_day['key_date'].min())\n",
    "se_dates.set_value(index=one_day, col='end_date', value=sales_day['key_date'].max())"
   ]
  },
  {
   "cell_type": "markdown",
   "metadata": {},
   "source": [
    "### demand classification"
   ]
  },
  {
   "cell_type": "code",
   "execution_count": 21,
   "metadata": {
    "collapsed": true
   },
   "outputs": [],
   "source": [
    "#http://www.pm.lth.se/fileadmin/pm/Exjobb/Exjobb_2017/Sercan_och_Joan/Master_Thesis_Sercan_Eminoglu_Joan_Esteve_7.6.2017.pdf\n",
    "#page 18\n",
    "\n",
    "SMOOTH = 'smooth'\n",
    "ERRATIC = 'erratic'\n",
    "LUMPY = 'lumpy'\n",
    "SLOW = 'slow'\n",
    "\n",
    "def classifyDemand(p, cv2):\n",
    "#     p = row['p']\n",
    "#     cv2 = row['CV2']\n",
    "    if (p >= 1.32):\n",
    "        if(cv2 >= 0.49):\n",
    "            return LUMPY\n",
    "        else: \n",
    "            return SLOW\n",
    "    else:\n",
    "        if(cv2 >= 0.49):\n",
    "            return ERRATIC\n",
    "        else:\n",
    "            return SMOOTH\n",
    "\n",
    "def date_range_of_sales(data, x):\n",
    "    items_sales = data[['key_date', x]]\n",
    "    items_sales_with_demand = items_sales.loc[items_sales[x] > 0]\n",
    "    start_date_of_sales = items_sales_with_demand['key_date'].min()\n",
    "    end_date_of_sales = items_sales_with_demand['key_date'].max()\n",
    "    return (start_date_of_sales, end_date_of_sales)\n",
    "\n",
    "def demand_classification(sales_data):\n",
    "    demand_columns = ['item', 'total_periods', 'periods_with_demand', 'STD', 'Mean', 'STD2', 'Mean2']          \n",
    "    sold_items = sales_data.columns.values\n",
    "    sold_items = np.delete(sold_items, np.argwhere(sold_items == 'key_date'))\n",
    "    demand_index=range(0, len(sold_items))\n",
    "    demand_classification = pd.DataFrame(index=demand_index, columns=demand_columns)\n",
    "    demand_classification['item'] = sold_items\n",
    "    demand_classification['total_periods'] = len(sales_data.index)\n",
    "    sales_data = sales_data.replace(np.nan, 0)\n",
    "    demand_classification['periods_with_demand'] =demand_classification['item'].map(lambda x: sales_data[x].astype(bool).sum())\n",
    "    demand_classification['min'] =demand_classification['item'].map(lambda x: sales_data[x].min())\n",
    "    demand_classification['max'] =demand_classification['item'].map(lambda x: sales_data[x].max())\n",
    "    demand_classification[['start_date', 'end_date']] = demand_classification['item'].map(lambda x: date_range_of_sales(sales_data, x)).apply(pd.Series)\n",
    "    demand_classification['STD'] =demand_classification['item'].map(lambda x: sales_data[x].std())\n",
    "    demand_classification['Mean'] =demand_classification['item'].map(lambda x: sales_data[x].mean())\n",
    "    demand_classification['STD2'] =np.power(demand_classification['STD'],2)\n",
    "    demand_classification['Mean2'] =np.power(demand_classification['Mean'],2)\n",
    "    demand_classification['T'] = demand_classification['total_periods']\n",
    "    demand_classification['N-1'] = demand_classification['periods_with_demand'] - 1\n",
    "    demand_classification['p'] =  demand_classification['T']/demand_classification['N-1']\n",
    "    demand_classification['CV2'] = demand_classification['STD2']/ demand_classification['Mean2']\n",
    "    demand_classification['demand'] =  demand_classification.apply(lambda x: classifyDemand(x['p'], x['CV2']), axis=1) \n",
    "    date_index = sales_data['key_date'].to_frame()\n",
    "    demand_classification['start_date_index'] = demand_classification['start_date'].map(lambda x: (date_index.index[date_index['key_date'] == x])[0])\n",
    "    demand_classification['end_date_index'] = demand_classification['end_date'].map(lambda x: (date_index.index[date_index['key_date'] == x])[0])\n",
    "    demand_classification['date_index_range'] = demand_classification['end_date_index'] - demand_classification['start_date_index'] + 1\n",
    "    return demand_classification\n",
    "\n",
    "demand_month = demand_classification(sales_month)\n",
    "demand_2week = demand_classification(sales_2week)\n",
    "demand_week = demand_classification(sales_week)\n",
    "demand_day = demand_classification(sales_day)"
   ]
  },
  {
   "cell_type": "code",
   "execution_count": 22,
   "metadata": {},
   "outputs": [
    {
     "data": {
      "text/html": [
       "<div>\n",
       "<style>\n",
       "    .dataframe thead tr:only-child th {\n",
       "        text-align: right;\n",
       "    }\n",
       "\n",
       "    .dataframe thead th {\n",
       "        text-align: left;\n",
       "    }\n",
       "\n",
       "    .dataframe tbody tr th {\n",
       "        vertical-align: top;\n",
       "    }\n",
       "</style>\n",
       "<table border=\"1\" class=\"dataframe\">\n",
       "  <thead>\n",
       "    <tr style=\"text-align: right;\">\n",
       "      <th>demand</th>\n",
       "      <th>erratic</th>\n",
       "      <th>lumpy</th>\n",
       "      <th>slow</th>\n",
       "      <th>smooth</th>\n",
       "    </tr>\n",
       "    <tr>\n",
       "      <th>period</th>\n",
       "      <th></th>\n",
       "      <th></th>\n",
       "      <th></th>\n",
       "      <th></th>\n",
       "    </tr>\n",
       "  </thead>\n",
       "  <tbody>\n",
       "    <tr>\n",
       "      <th>1 day</th>\n",
       "      <td>0</td>\n",
       "      <td>4976</td>\n",
       "      <td>0</td>\n",
       "      <td>0</td>\n",
       "    </tr>\n",
       "    <tr>\n",
       "      <th>1 month</th>\n",
       "      <td>84</td>\n",
       "      <td>4883</td>\n",
       "      <td>0</td>\n",
       "      <td>9</td>\n",
       "    </tr>\n",
       "    <tr>\n",
       "      <th>1 week</th>\n",
       "      <td>12</td>\n",
       "      <td>4964</td>\n",
       "      <td>0</td>\n",
       "      <td>0</td>\n",
       "    </tr>\n",
       "    <tr>\n",
       "      <th>2 weeks</th>\n",
       "      <td>34</td>\n",
       "      <td>4942</td>\n",
       "      <td>0</td>\n",
       "      <td>0</td>\n",
       "    </tr>\n",
       "  </tbody>\n",
       "</table>\n",
       "</div>"
      ],
      "text/plain": [
       "demand   erratic  lumpy  slow  smooth\n",
       "period                               \n",
       "1 day          0   4976     0       0\n",
       "1 month       84   4883     0       9\n",
       "1 week        12   4964     0       0\n",
       "2 weeks       34   4942     0       0"
      ]
     },
     "execution_count": 22,
     "metadata": {},
     "output_type": "execute_result"
    }
   ],
   "source": [
    "def dTypeCount(demanddata, demandtype):\n",
    "    return demanddata[demanddata['demand'] == demandtype]['item'].count()\n",
    "\n",
    "def demandSummary(dm, d2w, dw, dd):\n",
    "    demandX = [SLOW, SLOW, SLOW, SLOW, LUMPY,LUMPY,LUMPY,LUMPY, ERRATIC,ERRATIC,ERRATIC,ERRATIC, SMOOTH,SMOOTH,SMOOTH,SMOOTH]\n",
    "    timeIntervalX =  [one_month, two_weeks, one_week, one_day,one_month, two_weeks, one_week, one_day,one_month, two_weeks, one_week, one_day,one_month, two_weeks, one_week, one_day]\n",
    "\n",
    "    demand_summary = pd.DataFrame({'period' : timeIntervalX, \n",
    "                                   'demand' : demandX, \n",
    "                                   'data': [dTypeCount(dm, SLOW),dTypeCount(d2w, SLOW),dTypeCount(dw, SLOW),dTypeCount(dd, SLOW), \n",
    "                                            dTypeCount(dm, LUMPY),dTypeCount(d2w, LUMPY),dTypeCount(dw, LUMPY),dTypeCount(dd, LUMPY),\n",
    "                                             dTypeCount(dm, ERRATIC),dTypeCount(d2w, ERRATIC),dTypeCount(dw, ERRATIC),dTypeCount(dd, ERRATIC), \n",
    "                                            dTypeCount(dm, SMOOTH),dTypeCount(d2w, SMOOTH),dTypeCount(dw, SMOOTH),dTypeCount(dd, SMOOTH)]})\n",
    "    \n",
    "    return demand_summary\n",
    "\n",
    "demandSummary(demand_month, demand_2week, demand_week, demand_day).pivot(index='period', columns='demand', values='data')"
   ]
  },
  {
   "cell_type": "markdown",
   "metadata": {},
   "source": [
    "### double check intermittent demand\n",
    "check situation\n",
    "1) end of sales: smooth + 0s\n",
    "2) start of salse: 0s + smooth\n"
   ]
  },
  {
   "cell_type": "code",
   "execution_count": 23,
   "metadata": {},
   "outputs": [
    {
     "name": "stdout",
     "output_type": "stream",
     "text": [
      "Min date:  0\n",
      "Max date:  37\n",
      "Check for smoothing:  1343\n",
      "\u001b[31m Not saled anymore: 68 \u001b[0m\n",
      "\u001b[31m New items to sale: 192 \u001b[0m\n",
      "\u001b[94mBefore: 4883, after: 4623, reduced by: 260\u001b[0m\n",
      "Min date:  0\n",
      "Max date:  75\n",
      "Check for smoothing:  1012\n",
      "\u001b[31m Not saled anymore: 12 \u001b[0m\n",
      "\u001b[31m New items to sale: 62 \u001b[0m\n",
      "\u001b[94mBefore: 4942, after: 4868, reduced by: 74\u001b[0m\n",
      "Min date:  0\n",
      "Max date:  149\n",
      "Check for smoothing:  791\n",
      "\u001b[31m Not saled anymore: 4 \u001b[0m\n",
      "\u001b[31m New items to sale: 49 \u001b[0m\n",
      "\u001b[94mBefore: 4964, after: 4911, reduced by: 53\u001b[0m\n",
      "Min date:  0\n",
      "Max date:  1136\n",
      "Check for smoothing:  593\n",
      "\u001b[31m Not saled anymore: 0 \u001b[0m\n",
      "\u001b[31m New items to sale: 3 \u001b[0m\n",
      "\u001b[94mBefore: 4976, after: 4973, reduced by: 3\u001b[0m\n"
     ]
    },
    {
     "data": {
      "text/html": [
       "<div>\n",
       "<style>\n",
       "    .dataframe thead tr:only-child th {\n",
       "        text-align: right;\n",
       "    }\n",
       "\n",
       "    .dataframe thead th {\n",
       "        text-align: left;\n",
       "    }\n",
       "\n",
       "    .dataframe tbody tr th {\n",
       "        vertical-align: top;\n",
       "    }\n",
       "</style>\n",
       "<table border=\"1\" class=\"dataframe\">\n",
       "  <thead>\n",
       "    <tr style=\"text-align: right;\">\n",
       "      <th>demand</th>\n",
       "      <th>erratic</th>\n",
       "      <th>lumpy</th>\n",
       "      <th>slow</th>\n",
       "      <th>smooth</th>\n",
       "    </tr>\n",
       "    <tr>\n",
       "      <th>period</th>\n",
       "      <th></th>\n",
       "      <th></th>\n",
       "      <th></th>\n",
       "      <th></th>\n",
       "    </tr>\n",
       "  </thead>\n",
       "  <tbody>\n",
       "    <tr>\n",
       "      <th>1 day</th>\n",
       "      <td>0</td>\n",
       "      <td>4973</td>\n",
       "      <td>0</td>\n",
       "      <td>0</td>\n",
       "    </tr>\n",
       "    <tr>\n",
       "      <th>1 month</th>\n",
       "      <td>84</td>\n",
       "      <td>4623</td>\n",
       "      <td>0</td>\n",
       "      <td>9</td>\n",
       "    </tr>\n",
       "    <tr>\n",
       "      <th>1 week</th>\n",
       "      <td>12</td>\n",
       "      <td>4911</td>\n",
       "      <td>0</td>\n",
       "      <td>0</td>\n",
       "    </tr>\n",
       "    <tr>\n",
       "      <th>2 weeks</th>\n",
       "      <td>34</td>\n",
       "      <td>4868</td>\n",
       "      <td>0</td>\n",
       "      <td>0</td>\n",
       "    </tr>\n",
       "  </tbody>\n",
       "</table>\n",
       "</div>"
      ],
      "text/plain": [
       "demand   erratic  lumpy  slow  smooth\n",
       "period                               \n",
       "1 day          0   4973     0       0\n",
       "1 month       84   4623     0       9\n",
       "1 week        12   4911     0       0\n",
       "2 weeks       34   4868     0       0"
      ]
     },
     "execution_count": 23,
     "metadata": {},
     "output_type": "execute_result"
    }
   ],
   "source": [
    "intermittent_demand = [LUMPY, SLOW]\n",
    "non_intermittent_demand = [ERRATIC, SMOOTH]\n",
    "\n",
    "def reduceSmoothFromIntermittent(demand_data):\n",
    "    demand_data.head()\n",
    "    intermittent = demand_data[demand_data['demand'].isin(intermittent_demand)]\n",
    "    before = len(intermittent)\n",
    "    first_sales_date_index = intermittent['start_date_index'].min()\n",
    "    last_sales_date_index = intermittent['end_date_index'].max()\n",
    "    print(\"Min date: \" , first_sales_date_index.astype(str))\n",
    "    print(\"Max date: \" , last_sales_date_index.astype(str))\n",
    "\n",
    "    check_to_smooth = intermittent[intermittent['periods_with_demand'] ==  intermittent['date_index_range']]\n",
    "    print(\"Check for smoothing: \", str(len(check_to_smooth)))\n",
    "\n",
    "    not_saled_anymore = check_to_smooth[check_to_smooth['start_date_index'] == first_sales_date_index]\n",
    "    new_sales = check_to_smooth[check_to_smooth['end_date_index'] == last_sales_date_index]\n",
    "    printError(\"Not saled anymore: \" + str(len(not_saled_anymore)))\n",
    "    printError(\"New items to sale: \" + str(len(new_sales)))\n",
    "\n",
    "    #GRAPHICS\n",
    "    #check_to_smooth = check_to_smooth[np.logical_or(check_to_smooth['start_date_index'] == first_sales_date_index, check_to_smooth['end_date_index'] == last_sales_date_index)]\n",
    "    #not_saled_anymore  00-00000005 \t 00-00000261 \t00-00000322 \t\n",
    "    # sales_month['00-00000005'].plot()\n",
    "    # sales_month['00-00000322'].plot()\n",
    "    # sales_month['00-00000261'].plot()\n",
    "\n",
    "    #started_to_sale 01-00001125 \t01-00001490 \t99-00002436 \t\n",
    "    # sales_month['01-00001125'].plot()\n",
    "    # sales_month['01-00001490'].plot()\n",
    "    # sales_month['99-00002436'].plot()\n",
    "\n",
    "    #remove old sales and new sales \n",
    "    excluded = not_saled_anymore['item'].append(new_sales['item'])\n",
    "    intermittent = intermittent[~intermittent['item'].isin(excluded)]\n",
    "    after = len(intermittent)\n",
    "    printInfo(\"Before: \" + str(before) + \", after: \" + str(after) + \", reduced by: \" + str(before-after))\n",
    "    \n",
    "    demand_data = demand_data[np.logical_or(demand_data['demand'].isin(non_intermittent_demand), ~demand_data['item'].isin(excluded))]\n",
    "    \n",
    "    return demand_data, not_saled_anymore, new_sales, excluded\n",
    "\n",
    "\n",
    "\n",
    "demand_month, nsa_month, ns_month, excl_month = reduceSmoothFromIntermittent(demand_month)\n",
    "demand_2week, nsa_2week, ns_2week, excl_2week = reduceSmoothFromIntermittent(demand_2week)\n",
    "demand_week, nsa_week, ns_week, excl_week = reduceSmoothFromIntermittent(demand_week)\n",
    "demand_day,nsa_day, ns_day, excl_day  = reduceSmoothFromIntermittent(demand_day)\n",
    "\n",
    "demandSummary(demand_month, demand_2week, demand_week, demand_day).pivot(index='period', columns='demand', values='data')"
   ]
  },
  {
   "cell_type": "markdown",
   "metadata": {},
   "source": [
    "# <span style=\"color: #990000\"> FORECASTING</span>"
   ]
  },
  {
   "cell_type": "markdown",
   "metadata": {},
   "source": [
    "### <span style=\"color: red;\">TODO: train, validation set</span>"
   ]
  },
  {
   "cell_type": "markdown",
   "metadata": {},
   "source": [
    "## INTERMITTENT DEMAND: Bootstrapping BRT & MBB, CROSTON"
   ]
  },
  {
   "cell_type": "code",
   "execution_count": 319,
   "metadata": {},
   "outputs": [
    {
     "data": {
      "text/plain": [
       "<matplotlib.axes._subplots.AxesSubplot at 0x7fc1e31d9748>"
      ]
     },
     "execution_count": 319,
     "metadata": {},
     "output_type": "execute_result"
    },
    {
     "data": {
      "image/png": "[encoded data removed]",
      "text/plain": [
       "<matplotlib.figure.Figure at 0x7fc1db928550>"
      ]
     },
     "metadata": {},
     "output_type": "display_data"
    }
   ],
   "source": [
    "bst_intermittent_items = demand_month[demand_month['demand'] == LUMPY]\n",
    "item = '00-00000009'\n",
    "item_sales_temp = sales_month[item].replace(np.nan, 0)\n",
    "item_sales_temp.plot()\n",
    "#bst_intermittent_items\n"
   ]
  },
  {
   "cell_type": "code",
   "execution_count": 320,
   "metadata": {},
   "outputs": [
    {
     "data": {
      "text/plain": [
       "<matplotlib.axes._subplots.AxesSubplot at 0x7fc1db1a4160>"
      ]
     },
     "execution_count": 320,
     "metadata": {},
     "output_type": "execute_result"
    },
    {
     "data": {
      "image/png": "[encoded data removed]",
      "text/plain": [
       "<matplotlib.figure.Figure at 0x7fc1db1a9be0>"
      ]
     },
     "metadata": {},
     "output_type": "display_data"
    }
   ],
   "source": [
    "item_balance = balance[balance['id'] == item]\n",
    "item_balance = item_balance[['date', 'balance']].sort_values('date')\n",
    "item_balance['date'] = pd.to_datetime(item_balance['date'], format='%Y-%m-%d')\n",
    "item_balance.set_index('date', inplace=True)\n",
    "\n",
    "#import matplotlib.dates as dates\n",
    "item_sales_temp1 = sales_month[['key_date', item]].replace(np.nan, 0)\n",
    "item_sales_temp1['key_date'] = pd.to_datetime(item_sales_temp1['key_date'], format='%Y-%m-%d')\n",
    "item_sales_temp1.set_index('key_date', inplace=True)\n",
    "#item_sales_temp1.head()\n",
    "\n",
    "ax = item_sales_temp1.plot()\n",
    "item_balance.plot(ax=ax)"
   ]
  },
  {
   "cell_type": "code",
   "execution_count": 321,
   "metadata": {},
   "outputs": [
    {
     "data": {
      "text/plain": [
       "<matplotlib.axes._subplots.AxesSubplot at 0x7fc1db29e1d0>"
      ]
     },
     "execution_count": 321,
     "metadata": {},
     "output_type": "execute_result"
    },
    {
     "data": {
      "image/png": "[encoded data removed]",
      "text/plain": [
       "<matplotlib.figure.Figure at 0x7fc1db267320>"
      ]
     },
     "metadata": {},
     "output_type": "display_data"
    }
   ],
   "source": [
    "item_balance.head()\n",
    "item_balance.plot()"
   ]
  },
  {
   "cell_type": "markdown",
   "metadata": {},
   "source": [
    "####  Frequency"
   ]
  },
  {
   "cell_type": "code",
   "execution_count": 322,
   "metadata": {},
   "outputs": [],
   "source": [
    "def calc_frequency(data, level):\n",
    "    value_count = data.value_counts(sort=False)\n",
    "    pdf = (value_count/len(data)).sort_index()\n",
    "    cdf = pdf.cumsum()    \n",
    "    predicted = cdf.where(cdf > level).dropna().index[0]\n",
    "    return pdf, cdf, predicted"
   ]
  },
  {
   "cell_type": "markdown",
   "metadata": {},
   "source": [
    "### BRT bootstrapping concept"
   ]
  },
  {
   "cell_type": "code",
   "execution_count": 323,
   "metadata": {},
   "outputs": [],
   "source": [
    "ldt  = 2 #2 months lead time demand\n",
    "level = 0.8 # 80% service availability\n",
    "\n",
    "def brt_bootstrap_item(data, block_size):\n",
    "    #print(len(data), block_size)\n",
    "    sum_in_ldt = pd.DataFrame({'sum': np.repeat(np.nan, len(data)-block_size)})\n",
    "    for i in range(0, len(data) - block_size):\n",
    "        sum_in_ldt.set_value(index=i, col='sum', value=data.iloc[i-block_size: i].sum())\n",
    "    return sum_in_ldt\n",
    "        \n",
    "bst_item_sales = brt_bootstrap_item(item_sales_temp, ldt)\n",
    "freq_data, freq_data_cum, predicted = calc_frequency(bst_item_sales.ix[:, 'sum'], level)"
   ]
  },
  {
   "cell_type": "markdown",
   "metadata": {},
   "source": [
    "#### draw BRT result"
   ]
  },
  {
   "cell_type": "code",
   "execution_count": 325,
   "metadata": {},
   "outputs": [
    {
     "data": {
      "text/plain": [
       "Text(0.5,1,'Cumulative')"
      ]
     },
     "execution_count": 325,
     "metadata": {},
     "output_type": "execute_result"
    },
    {
     "data": {
      "image/png": "[encoded data removed]",
      "text/plain": [
       "<matplotlib.figure.Figure at 0x7fc1db4d1f98>"
      ]
     },
     "metadata": {},
     "output_type": "display_data"
    }
   ],
   "source": [
    "fig, ax = plt.subplots(1,2, figsize=(15,5))\n",
    "ax[0].bar(freq_data.index, freq_data)\n",
    "ax[1].bar(freq_data_cum.index, freq_data_cum)\n",
    "ax[1].axhline(y=level, xmin=0, xmax=1, color='red')\n",
    "\n",
    "\n",
    "ax[0].set_title('Frequency')\n",
    "ax[1].set_title('Cumulative')"
   ]
  },
  {
   "cell_type": "markdown",
   "metadata": {},
   "source": [
    " <span style=\"color:#ff0066; font-size:24px\"> можно сказать с вероятностью 80% что за 2 месяца это продукт купят меньше 2 штук в этом магазине</span>"
   ]
  },
  {
   "cell_type": "markdown",
   "metadata": {},
   "source": [
    " <span style=\"color:#ff0066; font-size:24px\">закупить = 2 - количество на складе</span>\n",
    "    "
   ]
  },
  {
   "cell_type": "markdown",
   "metadata": {},
   "source": [
    "### Test"
   ]
  },
  {
   "cell_type": "code",
   "execution_count": 331,
   "metadata": {},
   "outputs": [],
   "source": [
    "def chunker(seq, size):\n",
    "    return (seq[pos:pos + size] for pos in range(0, len(seq), size))\n",
    "\n",
    "def calc_errors(pred_df):\n",
    "    return calc_MSE(pred_df), calc_MAPE(pred_df)\n",
    "\n",
    "def calc_MSE(pred_df):\n",
    "    pred_df['diff2'] = np.power(pred_df['diff'],2)\n",
    "    return (pred_df['diff2'].sum())/len(pred_df)    \n",
    "\n",
    "def calc_MAPE(pred_df):\n",
    "    pred_df['diff3'] = np.abs(pred_df['diff'])/pred_df['actual']\n",
    "    return (100/len(pred_df))*(pred_df['diff3'].sum())  \n",
    "\n",
    "def calc_MAAPE(pred_df):\n",
    "    pred_df['diff4'] = np.arctan(np.abs(pred_df['diff']/pred_df['actual']))\n",
    "    return (1/len(pred_df))*(pred_df['diff4'].sum()) \n",
    "\n",
    "def divide_to_test_and_validation(series, chunks, ldt, test=0.8):\n",
    "    len_test = int(chunks*test)\n",
    "    len_validation = chunks - len_test\n",
    "    print(\"    \",\"chunks_test\", len_test, \"chunks_val\", len_validation)\n",
    "    len_test_series = ldt*len_test\n",
    "    data_test = series[0:len_test_series]\n",
    "    data_val = series[len_test_series:]\n",
    "    #print(len_test, len_validation)\n",
    "    return data_test, len_test, data_val, len_validation\n",
    "\n",
    "def plot_prediction_data(df_validation, sales_test_data_set, ldt):\n",
    "    predict_plot_data = pd.DataFrame({'y':[]})    \n",
    "    for i in chunker(sales_test_data_set, ldt):\n",
    "        predict_plot_data.set_value(index=len(predict_plot_data), col='y', value=i.sum())                    \n",
    "    predict_plot_data['actual'] = predict_plot_data['y']\n",
    "    predict_plot_data['predicted'] = predict_plot_data['y']\n",
    "    #print(len(predict_plot_data), len(df_validation))\n",
    "    predict_plot_data = predict_plot_data.append(df_validation)[['actual', 'predicted']].reset_index(drop=True)      \n",
    "    return predict_plot_data    \n",
    "\n",
    "def plot_result(ax, plotIdx, data, test, len_test_chunks):\n",
    "    graphx = 0 if plotIdx < 2 else 1\n",
    "    graphy = int(plotIdx + 1)%2\n",
    "    plot_cur = ax[graphx][graphy]\n",
    "    plot_cur.plot(data['actual'])\n",
    "    plot_cur.plot(data['predicted'])\n",
    "    plot_cur.set_title(\"test=\" + str(np.round(test, decimals=1)))\n",
    "    plot_cur.axvline(len_test_chunks - 1, color='red')\n",
    "       \n",
    "\n",
    "def run_forecast_test(sales_data, ldt, test=0.6):\n",
    "    full_validation = pd.DataFrame(columns=['test'])\n",
    "    full_validation.set_index('test', inplace=True)\n",
    "    chnks = int(len(sales_data)/ldt)\n",
    "    print(\"    \", \"ch:\", chnks, \"len\", len(sales_data), \"ldt\", ldt)\n",
    "    fig, ax = plt.subplots(2,2,figsize=(20,5))\n",
    "    fig.tight_layout()\n",
    "    plot_idx = 0\n",
    "    while(test < 0.95):\n",
    "        data_test, len_test_chunks, data_val, len_validation_in_chunks = divide_to_test_and_validation(sales_data, chnks, ldt, test)\n",
    "        print(\"    \", \"start test on\", test*100, \"%, data_test:\" , len(data_test), \", data_val\", len(data_val))\n",
    "        len_test = len(data_test)\n",
    "        df = pd.DataFrame({'actual' : np.repeat(np.nan, len_validation_in_chunks), \n",
    "                           'predicted': np.repeat(np.nan, len_validation_in_chunks)})\n",
    "        idx = 0\n",
    "        for i in chunker(data_val, ldt):        \n",
    "            bst_item_sales = brt_bootstrap_item(data_test, ldt)\n",
    "            freq_data, freq_data_cum, predicted = calc_frequency(bst_item_sales.ix[:, 'sum'], level)    \n",
    "            df.set_value(index=idx, col='actual', value=i.sum())\n",
    "            df.set_value(index=idx, col='predicted', value=predicted)        \n",
    "            data_test = data_test.append(i)    \n",
    "            idx += 1        \n",
    "        df['diff'] = df['actual'] - df['predicted']   \n",
    "        full_validation.set_value(index=test, col='length(n)', value=len(df)) \n",
    "        full_validation.set_value(index=test, col='MSE', value=calc_MSE(df))    \n",
    "        full_validation.set_value(index=test, col='MAPE', value=calc_MAPE(df))    \n",
    "        full_validation.set_value(index=test, col='MAAPE', value=calc_MAAPE(df))  \n",
    "        plot_result(ax, plot_idx, plot_prediction_data(df, sales_data[0:len_test], ldt), test, len_test_chunks)\n",
    "        print(df)\n",
    "        plot_idx += 1\n",
    "        test += 0.1          \n",
    "    return full_validation"
   ]
  },
  {
   "cell_type": "code",
   "execution_count": 332,
   "metadata": {},
   "outputs": [
    {
     "name": "stdout",
     "output_type": "stream",
     "text": [
      "     ch: 19 len 38 ldt 2\n",
      "     chunks_test 11 chunks_val 8\n",
      "     start test on 60.0 %, data_test: 22 , data_val 16\n",
      "   actual  predicted  diff  diff2     diff3     diff4\n",
      "0     0.0        3.0  -3.0    9.0       inf  1.570796\n",
      "1     3.0        2.0   1.0    1.0  0.333333  0.321751\n",
      "2     2.0        2.0   0.0    0.0  0.000000  0.000000\n",
      "3     1.0        1.0   0.0    0.0  0.000000  0.000000\n",
      "4     1.0        3.0  -2.0    4.0  2.000000  1.107149\n",
      "5     0.0        3.0  -3.0    9.0       inf  1.570796\n",
      "6     0.0        2.0  -2.0    4.0       inf  1.570796\n",
      "7     1.0        2.0  -1.0    1.0  1.000000  0.785398\n",
      "     chunks_test 13 chunks_val 6\n",
      "     start test on 70.0 %, data_test: 26 , data_val 12\n",
      "   actual  predicted  diff  diff2     diff3     diff4\n",
      "0     2.0        2.0   0.0    0.0  0.000000  0.000000\n",
      "1     1.0        1.0   0.0    0.0  0.000000  0.000000\n",
      "2     1.0        3.0  -2.0    4.0  2.000000  1.107149\n",
      "3     0.0        3.0  -3.0    9.0       inf  1.570796\n",
      "4     0.0        2.0  -2.0    4.0       inf  1.570796\n",
      "5     1.0        2.0  -1.0    1.0  1.000000  0.785398\n",
      "     chunks_test 15 chunks_val 4\n",
      "     start test on 80.0 %, data_test: 30 , data_val 8\n",
      "   actual  predicted  diff  diff2     diff3     diff4\n",
      "0     1.0        3.0  -2.0    4.0  2.000000  1.107149\n",
      "1     0.0        3.0  -3.0    9.0       inf  1.570796\n",
      "2     0.0        2.0  -2.0    4.0       inf  1.570796\n",
      "3     1.0        2.0  -1.0    1.0  1.000000  0.785398\n",
      "     chunks_test 17 chunks_val 2\n",
      "     start test on 89.99999999999999 %, data_test: 34 , data_val 4\n",
      "   actual  predicted  diff  diff2     diff3     diff4\n",
      "0     0.0        2.0  -2.0    4.0       inf  1.570796\n",
      "1     1.0        2.0  -1.0    1.0  1.000000  0.785398\n"
     ]
    },
    {
     "data": {
      "text/html": [
       "<div>\n",
       "<style>\n",
       "    .dataframe thead tr:only-child th {\n",
       "        text-align: right;\n",
       "    }\n",
       "\n",
       "    .dataframe thead th {\n",
       "        text-align: left;\n",
       "    }\n",
       "\n",
       "    .dataframe tbody tr th {\n",
       "        vertical-align: top;\n",
       "    }\n",
       "</style>\n",
       "<table border=\"1\" class=\"dataframe\">\n",
       "  <thead>\n",
       "    <tr style=\"text-align: right;\">\n",
       "      <th></th>\n",
       "      <th>length(n)</th>\n",
       "      <th>MSE</th>\n",
       "      <th>MAPE</th>\n",
       "      <th>MAAPE</th>\n",
       "    </tr>\n",
       "    <tr>\n",
       "      <th>test</th>\n",
       "      <th></th>\n",
       "      <th></th>\n",
       "      <th></th>\n",
       "      <th></th>\n",
       "    </tr>\n",
       "  </thead>\n",
       "  <tbody>\n",
       "    <tr>\n",
       "      <th>0.6</th>\n",
       "      <td>8.0</td>\n",
       "      <td>3.5</td>\n",
       "      <td>inf</td>\n",
       "      <td>0.865836</td>\n",
       "    </tr>\n",
       "    <tr>\n",
       "      <th>0.7</th>\n",
       "      <td>6.0</td>\n",
       "      <td>3.0</td>\n",
       "      <td>inf</td>\n",
       "      <td>0.839023</td>\n",
       "    </tr>\n",
       "    <tr>\n",
       "      <th>0.8</th>\n",
       "      <td>4.0</td>\n",
       "      <td>4.5</td>\n",
       "      <td>inf</td>\n",
       "      <td>1.258535</td>\n",
       "    </tr>\n",
       "    <tr>\n",
       "      <th>0.9</th>\n",
       "      <td>2.0</td>\n",
       "      <td>2.5</td>\n",
       "      <td>inf</td>\n",
       "      <td>1.178097</td>\n",
       "    </tr>\n",
       "  </tbody>\n",
       "</table>\n",
       "</div>"
      ],
      "text/plain": [
       "      length(n)  MSE  MAPE     MAAPE\n",
       "test                                \n",
       "0.6         8.0  3.5   inf  0.865836\n",
       "0.7         6.0  3.0   inf  0.839023\n",
       "0.8         4.0  4.5   inf  1.258535\n",
       "0.9         2.0  2.5   inf  1.178097"
      ]
     },
     "execution_count": 332,
     "metadata": {},
     "output_type": "execute_result"
    },
    {
     "data": {
      "image/png": "[encoded data removed]",
      "text/plain": [
       "<matplotlib.figure.Figure at 0x7fc1e3b026a0>"
      ]
     },
     "metadata": {},
     "output_type": "display_data"
    }
   ],
   "source": [
    "run_forecast_test(sales_month[item].replace(np.nan, 0), 2).head(5)"
   ]
  },
  {
   "cell_type": "code",
   "execution_count": 328,
   "metadata": {},
   "outputs": [
    {
     "name": "stdout",
     "output_type": "stream",
     "text": [
      "     ch: 19 len 76 ldt 4\n",
      "     chunks_test 11 chunks_val 8\n",
      "     start test on 60.0 %, data_test: 44 , data_val 32\n",
      "     chunks_test 13 chunks_val 6\n",
      "     start test on 70.0 %, data_test: 52 , data_val 24\n",
      "     chunks_test 15 chunks_val 4\n",
      "     start test on 80.0 %, data_test: 60 , data_val 16\n",
      "     chunks_test 17 chunks_val 2\n",
      "     start test on 89.99999999999999 %, data_test: 68 , data_val 8\n"
     ]
    },
    {
     "data": {
      "text/html": [
       "<div>\n",
       "<style>\n",
       "    .dataframe thead tr:only-child th {\n",
       "        text-align: right;\n",
       "    }\n",
       "\n",
       "    .dataframe thead th {\n",
       "        text-align: left;\n",
       "    }\n",
       "\n",
       "    .dataframe tbody tr th {\n",
       "        vertical-align: top;\n",
       "    }\n",
       "</style>\n",
       "<table border=\"1\" class=\"dataframe\">\n",
       "  <thead>\n",
       "    <tr style=\"text-align: right;\">\n",
       "      <th></th>\n",
       "      <th>length(n)</th>\n",
       "      <th>MSE</th>\n",
       "      <th>MAPE</th>\n",
       "      <th>MAAPE</th>\n",
       "    </tr>\n",
       "    <tr>\n",
       "      <th>test</th>\n",
       "      <th></th>\n",
       "      <th></th>\n",
       "      <th></th>\n",
       "      <th></th>\n",
       "    </tr>\n",
       "  </thead>\n",
       "  <tbody>\n",
       "    <tr>\n",
       "      <th>0.6</th>\n",
       "      <td>8.0</td>\n",
       "      <td>1.875000</td>\n",
       "      <td>inf</td>\n",
       "      <td>0.825617</td>\n",
       "    </tr>\n",
       "    <tr>\n",
       "      <th>0.7</th>\n",
       "      <td>6.0</td>\n",
       "      <td>1.666667</td>\n",
       "      <td>inf</td>\n",
       "      <td>0.785398</td>\n",
       "    </tr>\n",
       "    <tr>\n",
       "      <th>0.8</th>\n",
       "      <td>4.0</td>\n",
       "      <td>2.500000</td>\n",
       "      <td>inf</td>\n",
       "      <td>1.178097</td>\n",
       "    </tr>\n",
       "    <tr>\n",
       "      <th>0.9</th>\n",
       "      <td>2.0</td>\n",
       "      <td>2.500000</td>\n",
       "      <td>inf</td>\n",
       "      <td>1.178097</td>\n",
       "    </tr>\n",
       "  </tbody>\n",
       "</table>\n",
       "</div>"
      ],
      "text/plain": [
       "      length(n)       MSE  MAPE     MAAPE\n",
       "test                                     \n",
       "0.6         8.0  1.875000   inf  0.825617\n",
       "0.7         6.0  1.666667   inf  0.785398\n",
       "0.8         4.0  2.500000   inf  1.178097\n",
       "0.9         2.0  2.500000   inf  1.178097"
      ]
     },
     "execution_count": 328,
     "metadata": {},
     "output_type": "execute_result"
    },
    {
     "data": {
      "image/png": "[encoded data removed]",
      "text/plain": [
       "<matplotlib.figure.Figure at 0x7fc1db066470>"
      ]
     },
     "metadata": {},
     "output_type": "display_data"
    }
   ],
   "source": [
    "run_forecast_test(sales_2week[item].replace(np.nan, 0), 4).head(5)"
   ]
  },
  {
   "cell_type": "code",
   "execution_count": 329,
   "metadata": {},
   "outputs": [
    {
     "name": "stdout",
     "output_type": "stream",
     "text": [
      "     ch: 18 len 150 ldt 8\n",
      "     chunks_test 10 chunks_val 8\n",
      "     start test on 60.0 %, data_test: 80 , data_val 70\n",
      "     chunks_test 12 chunks_val 6\n",
      "     start test on 70.0 %, data_test: 96 , data_val 54\n",
      "     chunks_test 14 chunks_val 4\n",
      "     start test on 80.0 %, data_test: 112 , data_val 38\n",
      "     chunks_test 16 chunks_val 2\n",
      "     start test on 89.99999999999999 %, data_test: 128 , data_val 22\n"
     ]
    },
    {
     "data": {
      "text/html": [
       "<div>\n",
       "<style>\n",
       "    .dataframe thead tr:only-child th {\n",
       "        text-align: right;\n",
       "    }\n",
       "\n",
       "    .dataframe thead th {\n",
       "        text-align: left;\n",
       "    }\n",
       "\n",
       "    .dataframe tbody tr th {\n",
       "        vertical-align: top;\n",
       "    }\n",
       "</style>\n",
       "<table border=\"1\" class=\"dataframe\">\n",
       "  <thead>\n",
       "    <tr style=\"text-align: right;\">\n",
       "      <th></th>\n",
       "      <th>length(n)</th>\n",
       "      <th>MSE</th>\n",
       "      <th>MAPE</th>\n",
       "      <th>MAAPE</th>\n",
       "    </tr>\n",
       "    <tr>\n",
       "      <th>test</th>\n",
       "      <th></th>\n",
       "      <th></th>\n",
       "      <th></th>\n",
       "      <th></th>\n",
       "    </tr>\n",
       "  </thead>\n",
       "  <tbody>\n",
       "    <tr>\n",
       "      <th>0.6</th>\n",
       "      <td>9.0</td>\n",
       "      <td>1.888889</td>\n",
       "      <td>inf</td>\n",
       "      <td>0.908415</td>\n",
       "    </tr>\n",
       "    <tr>\n",
       "      <th>0.7</th>\n",
       "      <td>7.0</td>\n",
       "      <td>1.714286</td>\n",
       "      <td>inf</td>\n",
       "      <td>0.831363</td>\n",
       "    </tr>\n",
       "    <tr>\n",
       "      <th>0.8</th>\n",
       "      <td>5.0</td>\n",
       "      <td>2.200000</td>\n",
       "      <td>inf</td>\n",
       "      <td>1.099557</td>\n",
       "    </tr>\n",
       "    <tr>\n",
       "      <th>0.9</th>\n",
       "      <td>3.0</td>\n",
       "      <td>3.000000</td>\n",
       "      <td>inf</td>\n",
       "      <td>1.308997</td>\n",
       "    </tr>\n",
       "  </tbody>\n",
       "</table>\n",
       "</div>"
      ],
      "text/plain": [
       "      length(n)       MSE  MAPE     MAAPE\n",
       "test                                     \n",
       "0.6         9.0  1.888889   inf  0.908415\n",
       "0.7         7.0  1.714286   inf  0.831363\n",
       "0.8         5.0  2.200000   inf  1.099557\n",
       "0.9         3.0  3.000000   inf  1.308997"
      ]
     },
     "execution_count": 329,
     "metadata": {},
     "output_type": "execute_result"
    },
    {
     "data": {
      "image/png": "[encoded data removed]",
      "text/plain": [
       "<matplotlib.figure.Figure at 0x7fc1e43ebb00>"
      ]
     },
     "metadata": {},
     "output_type": "display_data"
    }
   ],
   "source": [
    "run_forecast_test(sales_week[item].replace(np.nan, 0), 8).head(5)"
   ]
  },
  {
   "cell_type": "code",
   "execution_count": 330,
   "metadata": {},
   "outputs": [
    {
     "name": "stdout",
     "output_type": "stream",
     "text": [
      "     ch: 18 len 1137 ldt 60\n",
      "     chunks_test 10 chunks_val 8\n",
      "     start test on 60.0 %, data_test: 600 , data_val 537\n",
      "     chunks_test 12 chunks_val 6\n",
      "     start test on 70.0 %, data_test: 720 , data_val 417\n",
      "     chunks_test 14 chunks_val 4\n",
      "     start test on 80.0 %, data_test: 840 , data_val 297\n",
      "     chunks_test 16 chunks_val 2\n",
      "     start test on 89.99999999999999 %, data_test: 960 , data_val 177\n"
     ]
    },
    {
     "data": {
      "text/html": [
       "<div>\n",
       "<style>\n",
       "    .dataframe thead tr:only-child th {\n",
       "        text-align: right;\n",
       "    }\n",
       "\n",
       "    .dataframe thead th {\n",
       "        text-align: left;\n",
       "    }\n",
       "\n",
       "    .dataframe tbody tr th {\n",
       "        vertical-align: top;\n",
       "    }\n",
       "</style>\n",
       "<table border=\"1\" class=\"dataframe\">\n",
       "  <thead>\n",
       "    <tr style=\"text-align: right;\">\n",
       "      <th></th>\n",
       "      <th>length(n)</th>\n",
       "      <th>MSE</th>\n",
       "      <th>MAPE</th>\n",
       "      <th>MAAPE</th>\n",
       "    </tr>\n",
       "    <tr>\n",
       "      <th>test</th>\n",
       "      <th></th>\n",
       "      <th></th>\n",
       "      <th></th>\n",
       "      <th></th>\n",
       "    </tr>\n",
       "  </thead>\n",
       "  <tbody>\n",
       "    <tr>\n",
       "      <th>0.6</th>\n",
       "      <td>9.0</td>\n",
       "      <td>2.333333</td>\n",
       "      <td>inf</td>\n",
       "      <td>1.011447</td>\n",
       "    </tr>\n",
       "    <tr>\n",
       "      <th>0.7</th>\n",
       "      <td>7.0</td>\n",
       "      <td>2.285714</td>\n",
       "      <td>inf</td>\n",
       "      <td>0.963833</td>\n",
       "    </tr>\n",
       "    <tr>\n",
       "      <th>0.8</th>\n",
       "      <td>5.0</td>\n",
       "      <td>2.200000</td>\n",
       "      <td>inf</td>\n",
       "      <td>1.099557</td>\n",
       "    </tr>\n",
       "    <tr>\n",
       "      <th>0.9</th>\n",
       "      <td>3.0</td>\n",
       "      <td>3.000000</td>\n",
       "      <td>inf</td>\n",
       "      <td>1.308997</td>\n",
       "    </tr>\n",
       "  </tbody>\n",
       "</table>\n",
       "</div>"
      ],
      "text/plain": [
       "      length(n)       MSE  MAPE     MAAPE\n",
       "test                                     \n",
       "0.6         9.0  2.333333   inf  1.011447\n",
       "0.7         7.0  2.285714   inf  0.963833\n",
       "0.8         5.0  2.200000   inf  1.099557\n",
       "0.9         3.0  3.000000   inf  1.308997"
      ]
     },
     "execution_count": 330,
     "metadata": {},
     "output_type": "execute_result"
    },
    {
     "data": {
      "image/png": "[encoded data removed]",
      "text/plain": [
       "<matplotlib.figure.Figure at 0x7fc1e4143d68>"
      ]
     },
     "metadata": {},
     "output_type": "display_data"
    }
   ],
   "source": [
    "run_forecast_test(sales_day[item].replace(np.nan, 0), 60).head(5)"
   ]
  },
  {
   "cell_type": "code",
   "execution_count": null,
   "metadata": {
    "collapsed": true
   },
   "outputs": [],
   "source": []
  },
  {
   "cell_type": "code",
   "execution_count": 163,
   "metadata": {
    "collapsed": true
   },
   "outputs": [],
   "source": [
    "def brt_bootstrap_wrapper(x, sales_data, ldt, level):\n",
    "    sales_x = sales_data[x].replace(np.nan, 0)\n",
    "    brt_sales_x = brt_bootstrap_item(sales_x, ldt)\n",
    "    freq_data_x, freq_data_cum_x, predicted_x = calc_frequency(brt_sales_x.ix[:, 'sum'], level)    \n",
    "#     fig, ax = plt.subplots(1,2, figsize=(10,3))\n",
    "#     ax[0].bar(freq_data_x.index, freq_data_x)\n",
    "#     ax[1].bar(freq_data_cum_x.index, freq_data_cum_x)\n",
    "#     ax[1].axhline(y=level, xmin=0, xmax=1, color='red')\n",
    "#     ax[0].set_title('Frequency')\n",
    "#     ax[1].set_title('Cumulative')\n",
    "    return predicted_x\n",
    "\n",
    "def brt_bootstrap_all(demand, sales, ldt, level, col='predicted'):\n",
    "    bst_intermittent = demand[demand['demand'].isin(intermittent_demand)]\n",
    "    unique_intermittent_items = bst_intermittent['item'].unique()\n",
    "    predicted = pd.DataFrame({'item' : unique_intermittent_items})\n",
    "    predicted[col] = predicted['item'].map(lambda x: brt_bootstrap_wrapper(x, sales, ldt, level))\n",
    "    return predicted"
   ]
  },
  {
   "cell_type": "code",
   "execution_count": 181,
   "metadata": {
    "collapsed": true
   },
   "outputs": [],
   "source": [
    "level = 0.8\n",
    "predicted_month = brt_bootstrap_all(demand_month, sales_month, 2, level, one_month)"
   ]
  },
  {
   "cell_type": "code",
   "execution_count": 182,
   "metadata": {
    "collapsed": true
   },
   "outputs": [],
   "source": [
    "predicted_2week  = brt_bootstrap_all(demand_2week, sales_2week, 4, level, two_weeks)"
   ]
  },
  {
   "cell_type": "code",
   "execution_count": 195,
   "metadata": {
    "collapsed": true
   },
   "outputs": [],
   "source": [
    "predicted_week = brt_bootstrap_all(demand_week, sales_week, 8, level, one_week)"
   ]
  },
  {
   "cell_type": "code",
   "execution_count": 196,
   "metadata": {
    "collapsed": true
   },
   "outputs": [],
   "source": [
    "predicted_day = brt_bootstrap_all(demand_day, sales_day, 60, level, one_day)"
   ]
  },
  {
   "cell_type": "code",
   "execution_count": 198,
   "metadata": {
    "collapsed": true
   },
   "outputs": [],
   "source": [
    "def mergeResult(df1, df2, df3, df4):\n",
    "    return df1.merge(df2, how='outer', on=['item']).merge(df3, how='outer', on=['item']).merge(df4, how='outer', on=['item'])\n",
    "\n",
    "#predicted = predicted_month.merge(predicted_2week,  how='outer', on=['item']).merge(predicted_week, how='outer', on)\n",
    "predicted = mergeResult(predicted_month, predicted_2week, predicted_week, predicted_day)"
   ]
  },
  {
   "cell_type": "code",
   "execution_count": 205,
   "metadata": {
    "collapsed": true
   },
   "outputs": [],
   "source": [
    "predicted.to_csv('brt_predicted', sep='\\t', encoding='utf-8')"
   ]
  },
  {
   "cell_type": "code",
   "execution_count": 206,
   "metadata": {},
   "outputs": [
    {
     "data": {
      "text/plain": [
       "<matplotlib.axes._subplots.AxesSubplot at 0x7f5c49c7b828>"
      ]
     },
     "execution_count": 206,
     "metadata": {},
     "output_type": "execute_result"
    },
    {
     "data": {
      "image/png": "[encoded data removed]",
      "text/plain": [
       "<matplotlib.figure.Figure at 0x7f5c4d3258d0>"
      ]
     },
     "metadata": {},
     "output_type": "display_data"
    }
   ],
   "source": [
    "predicted[4000:4100].plot(figsize=(20,5))"
   ]
  },
  {
   "cell_type": "code",
   "execution_count": null,
   "metadata": {
    "collapsed": true
   },
   "outputs": [],
   "source": []
  },
  {
   "cell_type": "code",
   "execution_count": null,
   "metadata": {
    "collapsed": true
   },
   "outputs": [],
   "source": [
    "from arch.bootstrap import MovingBlockBootstrap\n",
    "# bs = MovingBlockBootstrap(lead_time, temp)\n",
    "# n = 10000\n",
    "# bst_result = pd.DataFrame({'C': np.repeat(np.nan, n)})\n",
    "# for data in bs.bootstrap(10000):\n",
    "# >>> from arch.bootstrap import MovingBlockBootstrap\n",
    "# >>> from numpy.random import standard_normal\n",
    "# >>> y = standard_normal((500, 1))\n",
    "# >>> x = standard_normal((500,2))\n",
    "# >>> z = standard_normal(500)\n",
    "# >>> bs = MovingBlockBootstrap(7, x, y=y, z=z)\n",
    "# >>> for data in bs.bootstrap(100):\n",
    "# ...     bs_x = data[0][0]\n",
    "# ...     bs_y = data[1]['y']\n",
    "# ...     bs_z = bs.z\n"
   ]
  },
  {
   "cell_type": "markdown",
   "metadata": {},
   "source": [
    "### MBB bootstrapping concept"
   ]
  },
  {
   "cell_type": "markdown",
   "metadata": {},
   "source": [
    "- mbb is the same as BRT \n",
    "- distribution of ts should be normal? \n",
    "- block length"
   ]
  },
  {
   "cell_type": "markdown",
   "metadata": {},
   "source": [
    "### CROSTON concept"
   ]
  },
  {
   "cell_type": "code",
   "execution_count": 277,
   "metadata": {},
   "outputs": [
    {
     "name": "stdout",
     "output_type": "stream",
     "text": [
      "Predicted: 1.17079185755\n"
     ]
    },
    {
     "data": {
      "text/plain": [
       "<matplotlib.axes._subplots.AxesSubplot at 0x7f5c4d946cc0>"
      ]
     },
     "execution_count": 277,
     "metadata": {},
     "output_type": "execute_result"
    },
    {
     "data": {
      "image/png": "[encoded data removed]",
      "text/plain": [
       "<matplotlib.figure.Figure at 0x7f5c44e2c2b0>"
      ]
     },
     "metadata": {},
     "output_type": "display_data"
    }
   ],
   "source": [
    "alpha = 0.2\n",
    "betta = 0.3\n",
    "#item_sales_temp.plot()\n",
    "croston_df = item_sales_temp.to_frame()\n",
    "croston_df.columns = ['V(t)']\n",
    "croston_df['P(t)'] = np.nan\n",
    "croston_df['q'] = np.nan\n",
    "croston_df['X'] = np.nan\n",
    "croston_df['Z'] = np.nan\n",
    "\n",
    "if (croston_df.ix[0]['V(t)'] == 0):\n",
    "    croston_df.ix[0]['Z']  = 1\n",
    "    croston_df.ix[0]['X']  = 2\n",
    "else:\n",
    "    croston_df.ix[0]['Z']  = croston_df.ix[0]['V(t)']\n",
    "    croston_df.ix[0]['X']  = 1\n",
    "\n",
    "croston_df.ix[0]['q']  = 0\n",
    "    \n",
    "for i in range(1, len(croston_df)):\n",
    "    if (croston_df.ix[i]['V(t)'] == 0):\n",
    "        croston_df.ix[i]['q']  = croston_df.ix[i - 1]['q'] + 1   \n",
    "        croston_df.ix[i]['Z'] = croston_df.ix[i - 1]['Z']\n",
    "        croston_df.ix[i]['X'] = croston_df.ix[i - 1]['X']\n",
    "    else:\n",
    "        croston_df.ix[i]['Z']  = croston_df.ix[i - 1]['Z'] + alpha*(croston_df.ix[i]['V(t)'] - croston_df.ix[i - 1]['Z'])\n",
    "        croston_df.ix[i]['X']  =  croston_df.ix[i - 1]['X'] + betta*(croston_df.ix[i - 1]['q'] - croston_df.ix[i - 1]['X'])\n",
    "        croston_df.ix[i]['q'] = 0\n",
    "\n",
    "croston_df['P(t)'] = croston_df['Z']/ croston_df['X']\n",
    "croston_df['P'] = croston_df['P(t)'].astype(int)\n",
    "croston_df\n",
    "\n",
    "if (round((len(croston_df) - 1)/croston_df.ix[37]['Z']) > 0):\n",
    "    predicted = croston_df.ix[37]['Z']\n",
    "else:\n",
    "    predicted = 0\n",
    "    \n",
    "print(\"Predicted:\", predicted)\n",
    "croston_df\n",
    "\n",
    "croston_df[['V(t)','P']].plot()\n",
    "\n"
   ]
  },
  {
   "cell_type": "markdown",
   "metadata": {},
   "source": [
    "### Poisson concept"
   ]
  },
  {
   "cell_type": "markdown",
   "metadata": {},
   "source": [
    "## NON-INTERMITTENT DEMAND: Holt-Winters, Neural-Network"
   ]
  },
  {
   "cell_type": "markdown",
   "metadata": {},
   "source": [
    "### TensorFlow"
   ]
  },
  {
   "cell_type": "code",
   "execution_count": null,
   "metadata": {
    "collapsed": true
   },
   "outputs": [],
   "source": [
    "#split data to train and validation set\n",
    "def split_raw_data(data, val_size = 0.2, test_size=0.2):\n",
    "    ntest = int(round(len(data)*(1-test_size))) #test set starts from ntest\n",
    "    nval = int(round(len(data.iloc[:ntest])*(1-val_size))) # val set starts from nval\n",
    "    df_train, df_val, df_test = data.iloc[:nval], data.iloc[nval:ntest], data.iloc[ntest:]\n",
    "    return df_train, df_val, df_test\n",
    "\n",
    "train_set, val_set, test_set = split_raw_data(raw_data); "
   ]
  },
  {
   "cell_type": "code",
   "execution_count": 52,
   "metadata": {},
   "outputs": [
    {
     "data": {
      "image/png": "[encoded data removed]",
      "text/plain": [
       "<matplotlib.figure.Figure at 0x7fac74c58c50>"
      ]
     },
     "metadata": {},
     "output_type": "display_data"
    }
   ],
   "source": [
    "import tensorflow as tf\n",
    "\n",
    "#smooth\n",
    "demand_month[demand_month['demand'] == SMOOTH] #РТ-00000009\n",
    "name_item = \"РТ-00000009\"\n",
    "raw_data = sales_month[name_item]\n",
    "raw_data.plot()\n",
    "\n",
    "time_steps = 2\n",
    "batch_size = 1"
   ]
  },
  {
   "cell_type": "markdown",
   "metadata": {},
   "source": [
    "#### data preparation"
   ]
  },
  {
   "cell_type": "code",
   "execution_count": 53,
   "metadata": {
    "collapsed": true
   },
   "outputs": [],
   "source": []
  },
  {
   "cell_type": "code",
   "execution_count": 54,
   "metadata": {
    "collapsed": true
   },
   "outputs": [],
   "source": [
    "# convert timeseries to (x,y)\n",
    "def rnn_data(data, time_steps, labels=False): #X - false, Y - True\n",
    "    rnn_df = []\n",
    "    for i in range(len(data) - time_steps):\n",
    "        if labels:\n",
    "            try:\n",
    "                rnn_df.append(data.iloc[i + time_steps].as_matrix())\n",
    "            except AttributeError:\n",
    "                rnn_df.append(data.iloc[i + time_steps])\n",
    "        else:\n",
    "            data_ = data.iloc[i: i + time_steps].as_matrix()\n",
    "            rnn_df.append(data_ if len(data_.shape) > 1 else [[i] for i in data_])\n",
    "    return np.array(rnn_df)\n",
    "\n",
    "\n",
    "train_x = rnn_data(train_set, time_steps)\n",
    "train_y = rnn_data(train_set, time_steps, True)"
   ]
  },
  {
   "cell_type": "code",
   "execution_count": 55,
   "metadata": {
    "collapsed": true
   },
   "outputs": [],
   "source": [
    "# prepare timeseries\n",
    "def prepare_data(data, time_steps, labels=False, val_size=0.05, test_size=0.05):\n",
    "    \"\"\"\n",
    "    Given the number of `time_steps` and some data,\n",
    "    prepares training, validation and test data for an lstm cell.\n",
    "    \"\"\"\n",
    "    df_train, df_val, df_test = split_data(data, val_size, test_size)\n",
    "    return (rnn_data(df_train, time_steps, labels=labels),\n",
    "            rnn_data(df_val, time_steps, labels=labels),\n",
    "            rnn_data(df_test, time_steps, labels=labels))"
   ]
  },
  {
   "cell_type": "code",
   "execution_count": 61,
   "metadata": {},
   "outputs": [
    {
     "ename": "TypeError",
     "evalue": "list indices must be integers or slices, not tuple",
     "output_type": "error",
     "traceback": [
      "\u001b[0;31m---------------------------------------------------------------------------\u001b[0m",
      "\u001b[0;31mTypeError\u001b[0m                                 Traceback (most recent call last)",
      "\u001b[0;32m<ipython-input-61-1d33b9fe7b9b>\u001b[0m in \u001b[0;36m<module>\u001b[0;34m()\u001b[0m\n\u001b[1;32m      9\u001b[0m \u001b[0;34m\u001b[0m\u001b[0m\n\u001b[1;32m     10\u001b[0m \u001b[0;32mfor\u001b[0m \u001b[0mi\u001b[0m \u001b[0;32min\u001b[0m \u001b[0mrange\u001b[0m\u001b[0;34m(\u001b[0m\u001b[0mtime_steps\u001b[0m\u001b[0;34m)\u001b[0m\u001b[0;34m:\u001b[0m\u001b[0;34m\u001b[0m\u001b[0m\n\u001b[0;32m---> 11\u001b[0;31m     \u001b[0moutput\u001b[0m\u001b[0;34m,\u001b[0m \u001b[0mstate\u001b[0m \u001b[0;34m=\u001b[0m \u001b[0mstacked_ltsm\u001b[0m\u001b[0;34m(\u001b[0m\u001b[0mx_split\u001b[0m\u001b[0;34m[\u001b[0m\u001b[0;34m:\u001b[0m\u001b[0;34m,\u001b[0m \u001b[0mi\u001b[0m\u001b[0;34m]\u001b[0m\u001b[0;34m,\u001b[0m \u001b[0mstate\u001b[0m\u001b[0;34m)\u001b[0m\u001b[0;34m\u001b[0m\u001b[0m\n\u001b[0m\u001b[1;32m     12\u001b[0m \u001b[0;34m\u001b[0m\u001b[0m\n\u001b[1;32m     13\u001b[0m \u001b[0;34m\u001b[0m\u001b[0m\n",
      "\u001b[0;31mTypeError\u001b[0m: list indices must be integers or slices, not tuple"
     ]
    }
   ],
   "source": [
    "#rnn\n",
    "num_units = 1\n",
    "depth = 3\n",
    "rnn_cell = tf.nn.rnn_cell.BasicLSTMCell(num_units)\n",
    "stacked_ltsm = tf.nn.rnn_cell.MultiRNNCell([rnn_cell]  * depth)\n",
    "x_split = tf.split(train_x, time_steps, 1)\n",
    "\n",
    "initial_state = state = stacked_ltsm.zero_state(batch_size, tf.float32)\n",
    "\n",
    "for i in range(time_steps):\n",
    "    output, state = stacked_ltsm(x_split[:, i], state)\n",
    "\n",
    "    \n",
    "final_state = state\n"
   ]
  },
  {
   "cell_type": "code",
   "execution_count": null,
   "metadata": {
    "collapsed": true
   },
   "outputs": [],
   "source": [
    "def LTSM_Regressor(features, labels, mode, params):\n",
    "   # Logic to do the following:\n",
    "   # 1. Configure the model via TensorFlow operations\n",
    "   # 2. Define the loss function for training/evaluation\n",
    "   # 3. Define the training operation/optimizer\n",
    "   # 4. Generate predictions\n",
    "   # 5. Return predictions/loss/train_op/eval_metric_ops in EstimatorSpec object\n",
    "   return EstimatorSpec(mode, predictions, loss, train_op, eval_metric_ops)\n",
    "\n",
    "# Set model params\n",
    "model_params = {\"learning_rate\": LEARNING_RATE}\n",
    "\n",
    "# Instantiate Estimator\n",
    "nn = tf.estimator.Estimator(model_fn=LTSM_Regressor, params=model_params)"
   ]
  },
  {
   "cell_type": "markdown",
   "metadata": {},
   "source": [
    "### Forecasting: Intermitent demand [lumpy, slow]"
   ]
  },
  {
   "cell_type": "code",
   "execution_count": 386,
   "metadata": {},
   "outputs": [
    {
     "data": {
      "text/plain": [
       "1"
      ]
     },
     "execution_count": 386,
     "metadata": {},
     "output_type": "execute_result"
    }
   ],
   "source": [
    "lumpy_demand = demand_month[demand_month['demand'] == LUMPY]\n",
    "#bins\n",
    "n_rounded = round(1+ 3.322 * math.log(lumpy_demand['periods_with_demand'].unique()[0]))\n",
    "lumpy_demand['bin'] = round((lumpy_demand['max'] - lumpy_demand['min'])/n_rounded).astype(int)\n",
    "\n",
    "\n",
    "item = '00-00000058'\n",
    "item_df = pd.DataFrame(index=sales_month.index,columns=['item', 'pdf'])\n",
    "item_df['item'] = sales_month[item].replace(np.nan, 0)\n",
    "# item_df['pdf'] = item_df['item'].value_counts(normalize=True,dropna=False)\n",
    "item_data = lumpy_demand[lumpy_demand['item'] == item]\n",
    "min = item_data['min'].values[0].astype(int)\n",
    "max = item_data['max'].values[0].astype(int)\n",
    "bin = item_data['bin'].values[0]\n",
    "\n",
    "bin"
   ]
  },
  {
   "cell_type": "code",
   "execution_count": 364,
   "metadata": {},
   "outputs": [
    {
     "data": {
      "image/png": "[encoded data removed]",
      "text/plain": [
       "<matplotlib.figure.Figure at 0x7f4fe990bd30>"
      ]
     },
     "metadata": {},
     "output_type": "display_data"
    }
   ],
   "source": [
    "def autolabel(rects, labels):\n",
    "    # attach some text labels\n",
    "    i = 1\n",
    "    for rect in rects:\n",
    "        text = \"{0:.2f}\".format(labels[i])\n",
    "        height = rect.get_height()\n",
    "        ax.text(rect.get_x() + rect.get_width()/2., 1.05*height,\n",
    "                text,\n",
    "                ha='center', va='bottom')\n",
    "        i+=1\n",
    "\n",
    "def showHist(data):\n",
    "    ax = data.plot.bar(rot=0, color=\"b\", figsize=(20,10))\n",
    "    return ax;\n",
    "    \n",
    "            \n",
    "\n",
    "bins = list(range(0, max, bin))\n",
    "item_df['binned'] = pd.cut(item_df['item'], bins,include_lowest=True)\n",
    "item_value_hist = item_df['binned'].value_counts(sort=False)\n",
    "item_pdf_hist = item_value_hist/38\n",
    "ax = showHist(item_pdf_hist)\n",
    "autolabel(ax.patches, item_pdf_hist)\n"
   ]
  },
  {
   "cell_type": "code",
   "execution_count": 358,
   "metadata": {},
   "outputs": [
    {
     "data": {
      "image/png": "[encoded data removed]",
      "text/plain": [
       "<matplotlib.figure.Figure at 0x7f4fe96a3828>"
      ]
     },
     "metadata": {},
     "output_type": "display_data"
    }
   ],
   "source": [
    "item_cdf_hist = item_pdf_hist.cumsum()\n",
    "ax = showHist(item_cdf_hist)\n",
    "autolabel(ax.patches, item_cdf_hist)\n",
    "\n"
   ]
  },
  {
   "cell_type": "code",
   "execution_count": 359,
   "metadata": {},
   "outputs": [
    {
     "data": {
      "text/plain": [
       "<matplotlib.axes._subplots.AxesSubplot at 0x7f4fe97ee358>"
      ]
     },
     "execution_count": 359,
     "metadata": {},
     "output_type": "execute_result"
    },
    {
     "data": {
      "image/png": "[encoded data removed]",
      "text/plain": [
       "<matplotlib.figure.Figure at 0x7f4fe9916550>"
      ]
     },
     "metadata": {},
     "output_type": "display_data"
    }
   ],
   "source": [
    "#pdf_df[item]\n",
    "sales_month[item].replace(np.nan, 0)\n",
    "sales_month[item].hist()\n",
    "#sales_month[item].hist(cumulative='True')"
   ]
  },
  {
   "cell_type": "code",
   "execution_count": 360,
   "metadata": {},
   "outputs": [
    {
     "data": {
      "text/plain": [
       "Text(0.5,1,'hist = hist / hist.sum()')"
      ]
     },
     "execution_count": 360,
     "metadata": {},
     "output_type": "execute_result"
    },
    {
     "data": {
      "image/png": "[encoded data removed]",
      "text/plain": [
       "<matplotlib.figure.Figure at 0x7f4fe98340f0>"
      ]
     },
     "metadata": {},
     "output_type": "display_data"
    }
   ],
   "source": [
    "x = sales_month[item]\n",
    "fig, ax = plt.subplots(1,3, figsize=(10,4))\n",
    "\n",
    "ax[0].hist(x, normed=True, color='grey')\n",
    "\n",
    "hist, bins = np.histogram(x)\n",
    "ax[1].bar(bins[:-1], hist.astype(np.float32) / hist.sum(), width=(bins[1]-bins[0]))\n",
    "\n",
    "\n",
    "ax[0].set_title('normed=True')\n",
    "ax[1].set_title('hist = hist / hist.sum()')"
   ]
  },
  {
   "cell_type": "code",
   "execution_count": 294,
   "metadata": {},
   "outputs": [
    {
     "data": {
      "image/png": "[encoded data removed]",
      "text/plain": [
       "<matplotlib.figure.Figure at 0x7f4ff39e41d0>"
      ]
     },
     "metadata": {},
     "output_type": "display_data"
    }
   ],
   "source": [
    "item_pdf = sales_month[item].hist(normed=True, cumulative='True' )"
   ]
  },
  {
   "cell_type": "code",
   "execution_count": 77,
   "metadata": {},
   "outputs": [
    {
     "data": {
      "text/plain": [
       "<matplotlib.axes._subplots.AxesSubplot at 0x7f4ff7f4bdd8>"
      ]
     },
     "execution_count": 77,
     "metadata": {},
     "output_type": "execute_result"
    }
   ],
   "source": [
    "item_pdf"
   ]
  },
  {
   "cell_type": "code",
   "execution_count": 87,
   "metadata": {},
   "outputs": [
    {
     "data": {
      "text/plain": [
       "<matplotlib.axes._subplots.AxesSubplot at 0x7f53af99ed30>"
      ]
     },
     "execution_count": 87,
     "metadata": {},
     "output_type": "execute_result"
    },
    {
     "data": {
      "image/png": "[encoded data removed]",
      "text/plain": [
       "<matplotlib.figure.Figure at 0x7f53af8d5c18>"
      ]
     },
     "metadata": {},
     "output_type": "display_data"
    }
   ],
   "source": [
    "demand_month['demand'].sort_values().hist()"
   ]
  },
  {
   "cell_type": "code",
   "execution_count": 89,
   "metadata": {},
   "outputs": [
    {
     "data": {
      "text/plain": [
       "<matplotlib.axes._subplots.AxesSubplot at 0x7f53b31c0240>"
      ]
     },
     "execution_count": 89,
     "metadata": {},
     "output_type": "execute_result"
    },
    {
     "data": {
      "image/png": "[encoded data removed]",
      "text/plain": [
       "<matplotlib.figure.Figure at 0x7f53af8d5668>"
      ]
     },
     "metadata": {},
     "output_type": "display_data"
    }
   ],
   "source": [
    "demand_2week['demand'].sort_values().hist()"
   ]
  },
  {
   "cell_type": "code",
   "execution_count": 90,
   "metadata": {},
   "outputs": [
    {
     "data": {
      "text/plain": [
       "<matplotlib.axes._subplots.AxesSubplot at 0x7f53b26580f0>"
      ]
     },
     "execution_count": 90,
     "metadata": {},
     "output_type": "execute_result"
    },
    {
     "data": {
      "image/png": "[encoded data removed]",
      "text/plain": [
       "<matplotlib.figure.Figure at 0x7f53af8d5a20>"
      ]
     },
     "metadata": {},
     "output_type": "display_data"
    }
   ],
   "source": [
    "demand_week['demand'].sort_values().hist()"
   ]
  },
  {
   "cell_type": "code",
   "execution_count": 91,
   "metadata": {},
   "outputs": [
    {
     "data": {
      "text/plain": [
       "<matplotlib.axes._subplots.AxesSubplot at 0x7f53b33671d0>"
      ]
     },
     "execution_count": 91,
     "metadata": {},
     "output_type": "execute_result"
    },
    {
     "data": {
      "image/png": "[encoded data removed]",
      "text/plain": [
       "<matplotlib.figure.Figure at 0x7f53af8d5828>"
      ]
     },
     "metadata": {},
     "output_type": "display_data"
    }
   ],
   "source": [
    "demand_day['demand'].sort_values().hist()"
   ]
  },
  {
   "cell_type": "code",
   "execution_count": 17,
   "metadata": {
    "collapsed": true
   },
   "outputs": [],
   "source": [
    "test = sales_month['00-00000003'].copy(deep=True).to_frame()\n",
    "test['point'] = test.index + 1\n",
    "test['00-00000003'] = test['00-00000003'].replace(np.nan, 0)\n",
    "# test['00-00000003'] = test['00-00000003'].replace(0, np.nan)\n",
    "# test = test.dropna()\n",
    "# test['point_prev'] = test['point'].shift(1)\n",
    "# test['diff'] = test['point']-test['point_prev']\n",
    "test['demand'] = test['00-00000003'] > 0\n",
    "test['demand'] = test['demand'].astype(int)\n",
    "test"
   ]
  },
  {
   "cell_type": "code",
   "execution_count": 18,
   "metadata": {
    "collapsed": true
   },
   "outputs": [],
   "source": [
    "# not rare - items where sales series doesn't contain zero/NaN values\n",
    "# missing values are in [0, NaN], threashold = 30%\n",
    "\n",
    "threashnold_of_missing_data = 0.3 # 30%\n",
    "\n",
    "def setZeroesInsteadOfNan(data):\n",
    "    return data.replace(np.nan, 0)\n",
    "\n",
    "def reduce_items_with_not_stable_sales(data): #sales of items have > 30% missing values\n",
    "    total_row_count = data['key_date'].count()\n",
    "    missingValues = data.replace(0, np.nan).isnull().sum().sort_values(ascending=False).to_frame().reset_index()\n",
    "    missingValues.columns = ['id', 'missed']\n",
    "    missingValues['percentage'] = missingValues['missed']/total_row_count # % of missing values\n",
    "    threshold = 1 - threashnold_of_missing_data\n",
    "    to_remove = missingValues[missingValues['percentage'] > threshold]\n",
    "    reduced = data.copy(deep=True).drop(to_remove['id'], axis=1)\n",
    "    print(\"total row count:\", total_row_count, \", before:\", missingValues['id'].count(), \n",
    "           \", removed:\", to_remove['id'].count(), \", after: ~\", len(reduced.columns))\n",
    "    return reduced\n"
   ]
  },
  {
   "cell_type": "code",
   "execution_count": 19,
   "metadata": {},
   "outputs": [
    {
     "name": "stdout",
     "output_type": "stream",
     "text": [
      "total row count: 38 , before: 4977 , removed: 3803 , after: ~ 1174\n"
     ]
    },
    {
     "data": {
      "text/html": [
       "<div>\n",
       "<style>\n",
       "    .dataframe thead tr:only-child th {\n",
       "        text-align: right;\n",
       "    }\n",
       "\n",
       "    .dataframe thead th {\n",
       "        text-align: left;\n",
       "    }\n",
       "\n",
       "    .dataframe tbody tr th {\n",
       "        vertical-align: top;\n",
       "    }\n",
       "</style>\n",
       "<table border=\"1\" class=\"dataframe\">\n",
       "  <thead>\n",
       "    <tr style=\"text-align: right;\">\n",
       "      <th>id</th>\n",
       "      <th>key_date</th>\n",
       "      <th>00-00000003</th>\n",
       "      <th>00-00000004</th>\n",
       "      <th>00-00000005</th>\n",
       "      <th>00-00000009</th>\n",
       "      <th>00-00000010</th>\n",
       "      <th>00-00000011</th>\n",
       "      <th>00-00000027</th>\n",
       "      <th>00-00000031</th>\n",
       "      <th>00-00000033</th>\n",
       "      <th>...</th>\n",
       "      <th>УТ000000975</th>\n",
       "      <th>УТ000000977</th>\n",
       "      <th>УТ000000978</th>\n",
       "      <th>УТ000000982</th>\n",
       "      <th>УТ000000983</th>\n",
       "      <th>УТ000000984</th>\n",
       "      <th>УТ000001012</th>\n",
       "      <th>УТ000001013</th>\n",
       "      <th>УТ000001140</th>\n",
       "      <th>УТ000001301</th>\n",
       "    </tr>\n",
       "  </thead>\n",
       "  <tbody>\n",
       "    <tr>\n",
       "      <th>0</th>\n",
       "      <td>2014-07-01</td>\n",
       "      <td>4.0</td>\n",
       "      <td>4.0</td>\n",
       "      <td>6.0</td>\n",
       "      <td>NaN</td>\n",
       "      <td>NaN</td>\n",
       "      <td>NaN</td>\n",
       "      <td>1.0</td>\n",
       "      <td>NaN</td>\n",
       "      <td>NaN</td>\n",
       "      <td>...</td>\n",
       "      <td>NaN</td>\n",
       "      <td>1.0</td>\n",
       "      <td>NaN</td>\n",
       "      <td>NaN</td>\n",
       "      <td>NaN</td>\n",
       "      <td>1.0</td>\n",
       "      <td>19.0</td>\n",
       "      <td>53.0</td>\n",
       "      <td>NaN</td>\n",
       "      <td>NaN</td>\n",
       "    </tr>\n",
       "    <tr>\n",
       "      <th>1</th>\n",
       "      <td>2014-08-01</td>\n",
       "      <td>1.0</td>\n",
       "      <td>3.0</td>\n",
       "      <td>8.0</td>\n",
       "      <td>1.0</td>\n",
       "      <td>2.0</td>\n",
       "      <td>NaN</td>\n",
       "      <td>1.0</td>\n",
       "      <td>6.0</td>\n",
       "      <td>NaN</td>\n",
       "      <td>...</td>\n",
       "      <td>3.0</td>\n",
       "      <td>8.0</td>\n",
       "      <td>NaN</td>\n",
       "      <td>3.0</td>\n",
       "      <td>NaN</td>\n",
       "      <td>6.0</td>\n",
       "      <td>107.0</td>\n",
       "      <td>104.0</td>\n",
       "      <td>3.0</td>\n",
       "      <td>3.0</td>\n",
       "    </tr>\n",
       "    <tr>\n",
       "      <th>2</th>\n",
       "      <td>2014-09-01</td>\n",
       "      <td>7.0</td>\n",
       "      <td>10.0</td>\n",
       "      <td>9.0</td>\n",
       "      <td>NaN</td>\n",
       "      <td>NaN</td>\n",
       "      <td>1.0</td>\n",
       "      <td>NaN</td>\n",
       "      <td>2.0</td>\n",
       "      <td>NaN</td>\n",
       "      <td>...</td>\n",
       "      <td>NaN</td>\n",
       "      <td>3.0</td>\n",
       "      <td>NaN</td>\n",
       "      <td>NaN</td>\n",
       "      <td>NaN</td>\n",
       "      <td>5.0</td>\n",
       "      <td>129.0</td>\n",
       "      <td>80.0</td>\n",
       "      <td>6.0</td>\n",
       "      <td>3.0</td>\n",
       "    </tr>\n",
       "    <tr>\n",
       "      <th>3</th>\n",
       "      <td>2014-10-01</td>\n",
       "      <td>2.0</td>\n",
       "      <td>5.0</td>\n",
       "      <td>9.0</td>\n",
       "      <td>NaN</td>\n",
       "      <td>NaN</td>\n",
       "      <td>1.0</td>\n",
       "      <td>3.0</td>\n",
       "      <td>6.0</td>\n",
       "      <td>NaN</td>\n",
       "      <td>...</td>\n",
       "      <td>1.0</td>\n",
       "      <td>2.0</td>\n",
       "      <td>6.0</td>\n",
       "      <td>NaN</td>\n",
       "      <td>NaN</td>\n",
       "      <td>6.0</td>\n",
       "      <td>126.0</td>\n",
       "      <td>127.0</td>\n",
       "      <td>4.0</td>\n",
       "      <td>4.0</td>\n",
       "    </tr>\n",
       "    <tr>\n",
       "      <th>4</th>\n",
       "      <td>2014-11-01</td>\n",
       "      <td>2.0</td>\n",
       "      <td>8.0</td>\n",
       "      <td>8.0</td>\n",
       "      <td>2.0</td>\n",
       "      <td>NaN</td>\n",
       "      <td>1.0</td>\n",
       "      <td>1.0</td>\n",
       "      <td>NaN</td>\n",
       "      <td>NaN</td>\n",
       "      <td>...</td>\n",
       "      <td>NaN</td>\n",
       "      <td>NaN</td>\n",
       "      <td>7.0</td>\n",
       "      <td>2.0</td>\n",
       "      <td>NaN</td>\n",
       "      <td>2.0</td>\n",
       "      <td>81.0</td>\n",
       "      <td>98.0</td>\n",
       "      <td>1.0</td>\n",
       "      <td>2.0</td>\n",
       "    </tr>\n",
       "  </tbody>\n",
       "</table>\n",
       "<p>5 rows × 1174 columns</p>\n",
       "</div>"
      ],
      "text/plain": [
       "id   key_date  00-00000003  00-00000004  00-00000005  00-00000009  \\\n",
       "0  2014-07-01          4.0          4.0          6.0          NaN   \n",
       "1  2014-08-01          1.0          3.0          8.0          1.0   \n",
       "2  2014-09-01          7.0         10.0          9.0          NaN   \n",
       "3  2014-10-01          2.0          5.0          9.0          NaN   \n",
       "4  2014-11-01          2.0          8.0          8.0          2.0   \n",
       "\n",
       "id  00-00000010  00-00000011  00-00000027  00-00000031  00-00000033  \\\n",
       "0           NaN          NaN          1.0          NaN          NaN   \n",
       "1           2.0          NaN          1.0          6.0          NaN   \n",
       "2           NaN          1.0          NaN          2.0          NaN   \n",
       "3           NaN          1.0          3.0          6.0          NaN   \n",
       "4           NaN          1.0          1.0          NaN          NaN   \n",
       "\n",
       "id     ...       УТ000000975  УТ000000977  УТ000000978  УТ000000982  \\\n",
       "0      ...               NaN          1.0          NaN          NaN   \n",
       "1      ...               3.0          8.0          NaN          3.0   \n",
       "2      ...               NaN          3.0          NaN          NaN   \n",
       "3      ...               1.0          2.0          6.0          NaN   \n",
       "4      ...               NaN          NaN          7.0          2.0   \n",
       "\n",
       "id  УТ000000983  УТ000000984  УТ000001012  УТ000001013  УТ000001140  \\\n",
       "0           NaN          1.0         19.0         53.0          NaN   \n",
       "1           NaN          6.0        107.0        104.0          3.0   \n",
       "2           NaN          5.0        129.0         80.0          6.0   \n",
       "3           NaN          6.0        126.0        127.0          4.0   \n",
       "4           NaN          2.0         81.0         98.0          1.0   \n",
       "\n",
       "id  УТ000001301  \n",
       "0           NaN  \n",
       "1           3.0  \n",
       "2           3.0  \n",
       "3           4.0  \n",
       "4           2.0  \n",
       "\n",
       "[5 rows x 1174 columns]"
      ]
     },
     "execution_count": 19,
     "metadata": {},
     "output_type": "execute_result"
    }
   ],
   "source": [
    "#sales_month.isnull().sum().sort_values(ascending=False).hist()\n",
    "reduced_sales_m = reduce_items_with_not_stable_sales(sales_month)\n",
    "reduced_sales_m.head()\n"
   ]
  },
  {
   "cell_type": "code",
   "execution_count": 20,
   "metadata": {},
   "outputs": [
    {
     "data": {
      "text/plain": [
       "<matplotlib.axes._subplots.AxesSubplot at 0x7fc404cfa748>"
      ]
     },
     "execution_count": 20,
     "metadata": {},
     "output_type": "execute_result"
    },
    {
     "data": {
      "image/png": "[encoded data removed]",
      "text/plain": [
       "<matplotlib.figure.Figure at 0x7fc4045cbc50>"
      ]
     },
     "metadata": {},
     "output_type": "display_data"
    }
   ],
   "source": [
    "sales_2week.isnull().sum().sort_values(ascending=False).hist()"
   ]
  },
  {
   "cell_type": "code",
   "execution_count": 21,
   "metadata": {},
   "outputs": [
    {
     "data": {
      "text/plain": [
       "<matplotlib.axes._subplots.AxesSubplot at 0x7fc403f22898>"
      ]
     },
     "execution_count": 21,
     "metadata": {},
     "output_type": "execute_result"
    },
    {
     "data": {
      "image/png": "[encoded data removed]",
      "text/plain": [
       "<matplotlib.figure.Figure at 0x7fc404cfad30>"
      ]
     },
     "metadata": {},
     "output_type": "display_data"
    }
   ],
   "source": [
    "sales_week.isnull().sum().sort_values(ascending=False).hist()"
   ]
  },
  {
   "cell_type": "code",
   "execution_count": 22,
   "metadata": {},
   "outputs": [
    {
     "data": {
      "text/plain": [
       "<matplotlib.axes._subplots.AxesSubplot at 0x7fc404cfa978>"
      ]
     },
     "execution_count": 22,
     "metadata": {},
     "output_type": "execute_result"
    },
    {
     "data": {
      "image/png": "[encoded data removed]",
      "text/plain": [
       "<matplotlib.figure.Figure at 0x7fc403ee3ef0>"
      ]
     },
     "metadata": {},
     "output_type": "display_data"
    }
   ],
   "source": [
    "sales_day.isnull().sum().sort_values(ascending=False).hist()"
   ]
  },
  {
   "cell_type": "code",
   "execution_count": null,
   "metadata": {
    "collapsed": true
   },
   "outputs": [],
   "source": []
  }
 ],
 "metadata": {
  "kernelspec": {
   "display_name": "Python 3",
   "language": "python",
   "name": "python3"
  },
  "language_info": {
   "codemirror_mode": {
    "name": "ipython",
    "version": 3
   },
   "file_extension": ".py",
   "mimetype": "text/x-python",
   "name": "python",
   "nbconvert_exporter": "python",
   "pygments_lexer": "ipython3",
   "version": "3.6.2"
  }
 },
 "nbformat": 4,
 "nbformat_minor": 2
}
